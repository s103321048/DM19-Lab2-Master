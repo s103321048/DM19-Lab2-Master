{
 "cells": [
  {
   "cell_type": "markdown",
   "metadata": {},
   "source": [
    "### Student Information\n",
    "Name: 郭晉廷 Robin\n",
    "\n",
    "Student ID: 107065526\n",
    "\n",
    "GitHub ID: s103321048\n",
    "\n",
    "Kaggle name: https://www.kaggle.com/kuochinting\n",
    "\n",
    "Kaggle private scoreboard snapshot:\n",
    "\n",
    "[Snapshot](img/pic0.png)"
   ]
  },
  {
   "cell_type": "markdown",
   "metadata": {},
   "source": [
    "---"
   ]
  },
  {
   "cell_type": "markdown",
   "metadata": {},
   "source": [
    "### Instructions"
   ]
  },
  {
   "cell_type": "markdown",
   "metadata": {},
   "source": [
    "1. First: __This part is worth 30% of your grade.__ Do the **take home** exercises in the [DM19-Lab2-Master Repo](https://github.com/EvaArevalo/DM19-Lab2-Master). You may need to copy some cells from the Lab notebook to this notebook. \n",
    "\n",
    "\n",
    "2. Second: __This part is worth 30% of your grade.__ Participate in the in-class [Kaggle Competition](https://www.kaggle.com/t/179d01d4dd984fc5ac45a894822479dd) regarding Emotion Recognition on Twitter. The scoring will be given according to your place in the Private Leaderboard ranking: \n",
    "    - **Bottom 40%**: Get 20% of the score (ie. 20% of 30% )\n",
    "\n",
    "    - **Top 41% - 100%**: Get (101-x)% of the score, where x is your ranking in the leaderboard (ie. (101-x)% of 30% )   \n",
    "    Submit your last submission __BEFORE the deadline (Nov. 23rd 11:59 pm, Saturday)__. Make sure to take a screenshot of your position at the end of the competition and store it as '''pic0.png''' under the **img** folder of this repository and rerun the cell **Student Information**.\n",
    "    \n",
    "\n",
    "3. Third: __This part is worth 30% of your grade.__ A report of your work developping the model for the competition (You can use code and comment it). This report should include what your preprocessing steps, the feature engineering steps and an explanation of your model. You can also mention different things you tried and insights you gained. \n",
    "\n",
    "\n",
    "4. Fourth: __This part is worth 10% of your grade.__ It's hard for us to follow if your code is messy :'(, so please **tidy up your notebook** and **add minimal comments where needed**.\n",
    "\n",
    "\n",
    "You can submit your homework following these guidelines: [Git Intro & How to hand your homework](https://github.com/EvaArevalo/DM19-Lab1-Master/blob/master/Git%20Intro%20%26%20How%20to%20hand%20your%20homework.ipynb), but make sure to fork the [DM19-Lab2-Homework](https://github.com/EvaArevalo/DM19-Lab2-Homework) repository this time! Also please __DON´T UPLOAD HUGE DOCUMENTS__, please use Git ignore for that.\n",
    "\n",
    "Make sure to commit and save your changes to your repository __BEFORE the deadline (Nov. 26th 11:59 pm, Tuesday)__. "
   ]
  },
  {
   "cell_type": "code",
   "execution_count": 1,
   "metadata": {},
   "outputs": [],
   "source": [
    "### Begin Assignment Here"
   ]
  },
  {
   "cell_type": "markdown",
   "metadata": {},
   "source": [
    "# First:"
   ]
  },
  {
   "cell_type": "markdown",
   "metadata": {},
   "source": [
    "---\n",
    "### ** >>> Exercise 1 (Take home): **  \n",
    "Plot word frequency for Top 30 words in both train and test dataset. (Hint: refer to DM lab 1)\n"
   ]
  },
  {
   "cell_type": "code",
   "execution_count": 2,
   "metadata": {},
   "outputs": [],
   "source": [
    "import pandas as pd\n",
    "### training data\n",
    "anger_train = pd.read_csv(\"data/semeval/train/anger-ratings-0to1.train.txt\",\n",
    "                         sep=\"\\t\", header=None,names=[\"id\", \"text\", \"emotion\", \"intensity\"])\n",
    "sadness_train = pd.read_csv(\"data/semeval/train/sadness-ratings-0to1.train.txt\",\n",
    "                         sep=\"\\t\", header=None, names=[\"id\", \"text\", \"emotion\", \"intensity\"])\n",
    "fear_train = pd.read_csv(\"data/semeval/train/fear-ratings-0to1.train.txt\",\n",
    "                         sep=\"\\t\", header=None, names=[\"id\", \"text\", \"emotion\", \"intensity\"])\n",
    "joy_train = pd.read_csv(\"data/semeval/train/joy-ratings-0to1.train.txt\",\n",
    "                         sep=\"\\t\", header=None, names=[\"id\", \"text\", \"emotion\", \"intensity\"])\n",
    "# combine 4 sub-dataset\n",
    "train_df = pd.concat([anger_train, fear_train, joy_train, sadness_train], ignore_index=True)\n",
    "\n",
    "### testing data\n",
    "anger_test = pd.read_csv(\"data/semeval/dev/anger-ratings-0to1.dev.gold.txt\",\n",
    "                         sep=\"\\t\", header=None, names=[\"id\", \"text\", \"emotion\", \"intensity\"])\n",
    "sadness_test = pd.read_csv(\"data/semeval/dev/sadness-ratings-0to1.dev.gold.txt\",\n",
    "                         sep=\"\\t\", header=None, names=[\"id\", \"text\", \"emotion\", \"intensity\"])\n",
    "fear_test = pd.read_csv(\"data/semeval/dev/fear-ratings-0to1.dev.gold.txt\",\n",
    "                         sep=\"\\t\", header=None, names=[\"id\", \"text\", \"emotion\", \"intensity\"])\n",
    "joy_test = pd.read_csv(\"data/semeval/dev/joy-ratings-0to1.dev.gold.txt\",\n",
    "                         sep=\"\\t\", header=None, names=[\"id\", \"text\", \"emotion\", \"intensity\"])\n",
    "\n",
    "# combine 4 sub-dataset\n",
    "test_df = pd.concat([anger_test, fear_test, joy_test, sadness_test], ignore_index=True)\n",
    "train_df.head()\n",
    "\n",
    "train_df = train_df.sample(frac=1)\n",
    "test_df = test_df.sample(frac=1)"
   ]
  },
  {
   "cell_type": "code",
   "execution_count": 3,
   "metadata": {},
   "outputs": [],
   "source": [
    "import pandas as pd\n",
    "import numpy as np\n",
    "from sklearn.feature_extraction.text import CountVectorizer\n",
    "\n",
    "X = train_df\n",
    "count_vect = CountVectorizer()\n",
    "df_tf = count_vect.fit_transform(X.text)\n",
    "\n",
    "term_frequencies = []\n",
    "for j in range(0,df_tf.shape[1]):\n",
    "    term_frequencies.append(sum(df_tf[:,j].toarray()))\n",
    "    \n",
    "term_frequencies = np.asarray(df_tf.sum(axis=0))[0]"
   ]
  },
  {
   "cell_type": "code",
   "execution_count": 4,
   "metadata": {},
   "outputs": [],
   "source": [
    "show = pd.DataFrame({ 'term_frequencies': term_frequencies,\n",
    "                      'feature_names': count_vect.get_feature_names()\n",
    "                    })\n",
    "show.sort_values(by='term_frequencies', ascending= False, inplace=True)"
   ]
  },
  {
   "cell_type": "code",
   "execution_count": 5,
   "metadata": {},
   "outputs": [],
   "source": [
    "import matplotlib.pyplot as plt\n",
    "import seaborn as sns\n",
    "plt.subplots(figsize=(30, 10))\n",
    "g = sns.barplot(x=show['feature_names'][:30], \n",
    "            y=show['term_frequencies'][:30])\n",
    "g.set_xticklabels(show['feature_names'][:30], rotation = 90);"
   ]
  },
  {
   "cell_type": "code",
   "execution_count": 9,
   "metadata": {},
   "outputs": [
    {
     "data": {
      "image/png": "[encoded data removed]",
      "text/plain": [
       "<Figure size 432x288 with 1 Axes>"
      ]
     },
     "metadata": {
      "needs_background": "light"
     },
     "output_type": "display_data"
    }
   ],
   "source": [
    "g = sns.barplot(x=show['feature_names'][:30], \n",
    "            y=show['term_frequencies'][:30])\n",
    "g.set_xticklabels(show['feature_names'][:30], rotation = 90);"
   ]
  },
  {
   "cell_type": "markdown",
   "metadata": {},
   "source": [
    "---\n",
    "### ** >>> Exercise 2 (Take home): **  \n",
    "Generate an embedding using the TF-IDF vectorizer instead of th BOW one with 1000 features and show the feature names for features [100:110]."
   ]
  },
  {
   "cell_type": "code",
   "execution_count": 10,
   "metadata": {},
   "outputs": [
    {
     "name": "stdout",
     "output_type": "stream",
     "text": [
      "['2k17', '2much', '2nd', '30', '300', '301', '30am', '30pm', '30s', '31']\n"
     ]
    }
   ],
   "source": [
    "# Answer here\n",
    "from sklearn.feature_extraction.text import TfidfVectorizer\n",
    "corpus = list(train_df['text'])\n",
    "vectorizer = TfidfVectorizer()\n",
    "X_idf = vectorizer.fit_transform(corpus) # Learn vocabulary and idf, return term-document matrix.\n",
    "print(vectorizer.get_feature_names()[100:110]) # print term-document matrix"
   ]
  },
  {
   "cell_type": "markdown",
   "metadata": {},
   "source": [
    "---\n",
    "![ex3](pics/ex3.png)\n",
    "### ** >>> Exercise 3 (Take home): **  \n",
    "Can you interpret the results above? What do they mean?"
   ]
  },
  {
   "cell_type": "code",
   "execution_count": 15,
   "metadata": {},
   "outputs": [],
   "source": [
    "# Answer here\n",
    "# The y-axis represent how the model predict\n",
    "# The x-axis represent the real label for the emotion of the data\n",
    "# For example the \"black 70\" means the emotion is fear, and the model really predict it as fear"
   ]
  },
  {
   "cell_type": "markdown",
   "metadata": {},
   "source": [
    "---\n",
    "### ** >>> Exercise 4 (Take home): **  \n",
    "Build a model using a ```Naive Bayes``` model and train it. What are the testing results? \n",
    "\n",
    "*Reference*: https://scikit-learn.org/stable/modules/generated/sklearn.naive_bayes.MultinomialNB.html"
   ]
  },
  {
   "cell_type": "code",
   "execution_count": 19,
   "metadata": {},
   "outputs": [
    {
     "data": {
      "text/plain": [
       "(3613, 500)"
      ]
     },
     "execution_count": 19,
     "metadata": {},
     "output_type": "execute_result"
    }
   ],
   "source": [
    "import nltk\n",
    "\n",
    "# build analyzers (bag-of-words)\n",
    "BOW_500 = CountVectorizer(max_features=500, tokenizer=nltk.word_tokenize) \n",
    "\n",
    "# apply analyzer to training data\n",
    "BOW_500.fit(train_df['text'])\n",
    "\n",
    "train_data_BOW_features_500 = BOW_500.transform(train_df['text'])\n",
    "\n",
    "## check dimension\n",
    "train_data_BOW_features_500.shape"
   ]
  },
  {
   "cell_type": "code",
   "execution_count": 20,
   "metadata": {},
   "outputs": [
    {
     "data": {
      "text/plain": [
       "array(['anger', 'anger', 'anger', 'fear', 'fear', 'sadness', 'fear',\n",
       "       'fear', 'fear', 'sadness'], dtype='<U7')"
      ]
     },
     "execution_count": 20,
     "metadata": {},
     "output_type": "execute_result"
    }
   ],
   "source": [
    "# Answer here\n",
    "from sklearn.tree import DecisionTreeClassifier\n",
    "# training/testing data prepare\n",
    "X_train = BOW_500.transform(train_df['text'])\n",
    "Y_train = train_df['emotion']\n",
    "X_test = BOW_500.transform(test_df['text'])\n",
    "Y_test = test_df['emotion']\n",
    "\n",
    "# train with naive_bayes\n",
    "from sklearn.naive_bayes import BernoulliNB\n",
    "\n",
    "bnb_tf = BernoulliNB(binarize=0.0)\n",
    "## training!\n",
    "bnb_tf.fit(X_train, Y_train)\n",
    "\n",
    "## predict!\n",
    "y_train_pred = bnb_tf.predict(X_train)\n",
    "y_test_pred = bnb_tf.predict(X_test)\n",
    "y_test_pred[:10]"
   ]
  },
  {
   "cell_type": "code",
   "execution_count": 22,
   "metadata": {},
   "outputs": [
    {
     "name": "stdout",
     "output_type": "stream",
     "text": [
      "training accuracy: 0.8\n",
      "testing accuracy: 0.71\n"
     ]
    }
   ],
   "source": [
    "## accuracy\n",
    "from sklearn.metrics import accuracy_score\n",
    "\n",
    "acc_train = accuracy_score(y_true=Y_train, y_pred=y_train_pred)\n",
    "acc_test = accuracy_score(y_true=Y_test, y_pred=y_test_pred)\n",
    "\n",
    "print('training accuracy: {}'.format(round(acc_train, 2)))\n",
    "print('testing accuracy: {}'.format(round(acc_test, 2)))\n"
   ]
  },
  {
   "cell_type": "code",
   "execution_count": 23,
   "metadata": {},
   "outputs": [
    {
     "name": "stdout",
     "output_type": "stream",
     "text": [
      "              precision    recall  f1-score   support\n",
      "\n",
      "       anger       0.64      0.68      0.66        84\n",
      "        fear       0.74      0.80      0.77       110\n",
      "         joy       0.79      0.67      0.73        79\n",
      "     sadness       0.65      0.64      0.64        74\n",
      "\n",
      "    accuracy                           0.71       347\n",
      "   macro avg       0.71      0.70      0.70       347\n",
      "weighted avg       0.71      0.71      0.71       347\n",
      "\n"
     ]
    }
   ],
   "source": [
    "## precision, recall, f1-score,\n",
    "from sklearn.metrics import classification_report\n",
    "\n",
    "print(classification_report(y_true=Y_test, y_pred=y_test_pred))"
   ]
  },
  {
   "cell_type": "code",
   "execution_count": 25,
   "metadata": {},
   "outputs": [
    {
     "name": "stdout",
     "output_type": "stream",
     "text": [
      "[[57 12  5 10]\n",
      " [13 88  3  6]\n",
      " [ 9  8 53  9]\n",
      " [10 11  6 47]]\n"
     ]
    }
   ],
   "source": [
    "## check by confusion matrix\n",
    "from sklearn.metrics import confusion_matrix\n",
    "\n",
    "cm = confusion_matrix(y_true=Y_test, y_pred=y_test_pred) \n",
    "print(cm)"
   ]
  },
  {
   "cell_type": "code",
   "execution_count": 26,
   "metadata": {},
   "outputs": [],
   "source": [
    "# Funciton for visualizing confusion_matrix\n",
    "import matplotlib.pyplot as plt\n",
    "import seaborn as sns\n",
    "import numpy as np\n",
    "import itertools\n",
    "\n",
    "def plot_confusion_matrix(cm, classes, title='Confusion matrix',\n",
    "                          cmap=sns.cubehelix_palette(as_cmap=True)):\n",
    "    \"\"\"\n",
    "    This function is modified from: \n",
    "    http://scikit-learn.org/stable/auto_examples/model_selection/plot_confusion_matrix.html\n",
    "    \"\"\"\n",
    "    classes.sort()\n",
    "    tick_marks = np.arange(len(classes))    \n",
    "    \n",
    "    fig, ax = plt.subplots(figsize=(5,5))\n",
    "    im = ax.imshow(cm, interpolation='nearest', cmap=cmap)\n",
    "    ax.figure.colorbar(im, ax=ax)\n",
    "    ax.set(xticks=np.arange(cm.shape[1]),\n",
    "           yticks=np.arange(cm.shape[0]),\n",
    "           xticklabels = classes,\n",
    "           yticklabels = classes,\n",
    "           title = title,\n",
    "           xlabel = 'True label',\n",
    "           ylabel = 'Predicted label')\n",
    "\n",
    "    fmt = 'd'\n",
    "    thresh = cm.max() / 2.\n",
    "    for i, j in itertools.product(range(cm.shape[0]), range(cm.shape[1])):\n",
    "        plt.text(j, i, format(cm[i, j], fmt), horizontalalignment=\"center\", color=\"white\" if cm[i, j] > thresh else \"black\")\n",
    "    ylim_top = len(classes) - 0.5\n",
    "    plt.ylim([ylim_top, -.5])\n",
    "    plt.tight_layout()\n",
    "    plt.show()"
   ]
  },
  {
   "cell_type": "code",
   "execution_count": 27,
   "metadata": {},
   "outputs": [
    {
     "data": {
      "image/png": "[encoded data removed]",
      "text/plain": [
       "<Figure size 360x360 with 2 Axes>"
      ]
     },
     "metadata": {
      "needs_background": "light"
     },
     "output_type": "display_data"
    }
   ],
   "source": [
    "# plot your confusion matrix\n",
    "my_tags = ['anger', 'fear', 'joy', 'sadness']\n",
    "plot_confusion_matrix(cm, classes=my_tags, title='Confusion matrix')"
   ]
  },
  {
   "cell_type": "markdown",
   "metadata": {},
   "source": [
    "---\n",
    "### ** >>> Exercise 5 (Take home): **  \n",
    "\n",
    "How do the results from the Naive Bayes model and the Decision Tree model compare? How do you interpret these differences? Use the theoretical background covered in class to try and explain these differences."
   ]
  },
  {
   "cell_type": "code",
   "execution_count": 28,
   "metadata": {},
   "outputs": [],
   "source": [
    "### Answer here\n",
    "\n",
    "## Decision Trees\n",
    "#training accuracy: 0.99\n",
    "#testing accuracy: 0.64\n",
    "\n",
    "##Naive_Bayes\n",
    "#training accuracy: 0.8\n",
    "#testing accuracy: 0.71\n",
    "\n",
    "# Decision tree have better performance on training data is becasue Descision Tree is overfitting\n",
    "# Naive Bayes have a better testing accuracy because it is base on probability which make it more robust and less affect by the training data"
   ]
  },
  {
   "cell_type": "markdown",
   "metadata": {},
   "source": [
    "---\n",
    "### ** >>> Exercise 6 (Take home): **  \n",
    "\n",
    "Plot the Training and Validation Accuracy and Loss (different plots), just like the images below (Note: the pictures below are an example from a different model). How to interpret the graphs you got? How are they related to the concept of overfitting/underfitting covered in class?\n",
    "<table><tr>\n",
    "    <td><img src=\"pics/pic3.png\" style=\"width: 300px;\"/> </td>\n",
    "    <td><img src=\"pics/pic4.png\" style=\"width: 300px;\"/> </td>\n",
    "</tr></table>"
   ]
  },
  {
   "cell_type": "code",
   "execution_count": 30,
   "metadata": {},
   "outputs": [
    {
     "data": {
      "text/html": [
       "<div>\n",
       "<style scoped>\n",
       "    .dataframe tbody tr th:only-of-type {\n",
       "        vertical-align: middle;\n",
       "    }\n",
       "\n",
       "    .dataframe tbody tr th {\n",
       "        vertical-align: top;\n",
       "    }\n",
       "\n",
       "    .dataframe thead th {\n",
       "        text-align: right;\n",
       "    }\n",
       "</style>\n",
       "<table border=\"1\" class=\"dataframe\">\n",
       "  <thead>\n",
       "    <tr style=\"text-align: right;\">\n",
       "      <th></th>\n",
       "      <th>epoch</th>\n",
       "      <th>accuracy</th>\n",
       "      <th>loss</th>\n",
       "      <th>val_accuracy</th>\n",
       "      <th>val_loss</th>\n",
       "    </tr>\n",
       "  </thead>\n",
       "  <tbody>\n",
       "    <tr>\n",
       "      <td>0</td>\n",
       "      <td>0</td>\n",
       "      <td>0.376695</td>\n",
       "      <td>1.318748</td>\n",
       "      <td>0.463977</td>\n",
       "      <td>1.260115</td>\n",
       "    </tr>\n",
       "    <tr>\n",
       "      <td>1</td>\n",
       "      <td>1</td>\n",
       "      <td>0.639358</td>\n",
       "      <td>0.980372</td>\n",
       "      <td>0.642651</td>\n",
       "      <td>0.957817</td>\n",
       "    </tr>\n",
       "    <tr>\n",
       "      <td>2</td>\n",
       "      <td>2</td>\n",
       "      <td>0.789372</td>\n",
       "      <td>0.585165</td>\n",
       "      <td>0.694524</td>\n",
       "      <td>0.812088</td>\n",
       "    </tr>\n",
       "    <tr>\n",
       "      <td>3</td>\n",
       "      <td>3</td>\n",
       "      <td>0.837531</td>\n",
       "      <td>0.423604</td>\n",
       "      <td>0.685879</td>\n",
       "      <td>0.826111</td>\n",
       "    </tr>\n",
       "    <tr>\n",
       "      <td>4</td>\n",
       "      <td>4</td>\n",
       "      <td>0.872682</td>\n",
       "      <td>0.340456</td>\n",
       "      <td>0.708934</td>\n",
       "      <td>0.777009</td>\n",
       "    </tr>\n",
       "    <tr>\n",
       "      <td>5</td>\n",
       "      <td>5</td>\n",
       "      <td>0.898699</td>\n",
       "      <td>0.279962</td>\n",
       "      <td>0.714697</td>\n",
       "      <td>0.834833</td>\n",
       "    </tr>\n",
       "    <tr>\n",
       "      <td>6</td>\n",
       "      <td>6</td>\n",
       "      <td>0.922779</td>\n",
       "      <td>0.231137</td>\n",
       "      <td>0.682997</td>\n",
       "      <td>0.914465</td>\n",
       "    </tr>\n",
       "    <tr>\n",
       "      <td>7</td>\n",
       "      <td>7</td>\n",
       "      <td>0.938278</td>\n",
       "      <td>0.196167</td>\n",
       "      <td>0.700288</td>\n",
       "      <td>0.960180</td>\n",
       "    </tr>\n",
       "    <tr>\n",
       "      <td>8</td>\n",
       "      <td>8</td>\n",
       "      <td>0.945751</td>\n",
       "      <td>0.167376</td>\n",
       "      <td>0.697406</td>\n",
       "      <td>0.990643</td>\n",
       "    </tr>\n",
       "    <tr>\n",
       "      <td>9</td>\n",
       "      <td>9</td>\n",
       "      <td>0.955992</td>\n",
       "      <td>0.145909</td>\n",
       "      <td>0.682997</td>\n",
       "      <td>1.051301</td>\n",
       "    </tr>\n",
       "    <tr>\n",
       "      <td>10</td>\n",
       "      <td>10</td>\n",
       "      <td>0.960421</td>\n",
       "      <td>0.132309</td>\n",
       "      <td>0.691643</td>\n",
       "      <td>1.074099</td>\n",
       "    </tr>\n",
       "    <tr>\n",
       "      <td>11</td>\n",
       "      <td>11</td>\n",
       "      <td>0.964019</td>\n",
       "      <td>0.120175</td>\n",
       "      <td>0.697406</td>\n",
       "      <td>1.118009</td>\n",
       "    </tr>\n",
       "    <tr>\n",
       "      <td>12</td>\n",
       "      <td>12</td>\n",
       "      <td>0.965126</td>\n",
       "      <td>0.114730</td>\n",
       "      <td>0.674352</td>\n",
       "      <td>1.204706</td>\n",
       "    </tr>\n",
       "    <tr>\n",
       "      <td>13</td>\n",
       "      <td>13</td>\n",
       "      <td>0.969001</td>\n",
       "      <td>0.109127</td>\n",
       "      <td>0.674352</td>\n",
       "      <td>1.247851</td>\n",
       "    </tr>\n",
       "    <tr>\n",
       "      <td>14</td>\n",
       "      <td>14</td>\n",
       "      <td>0.967063</td>\n",
       "      <td>0.096554</td>\n",
       "      <td>0.688761</td>\n",
       "      <td>1.234039</td>\n",
       "    </tr>\n",
       "    <tr>\n",
       "      <td>15</td>\n",
       "      <td>15</td>\n",
       "      <td>0.970661</td>\n",
       "      <td>0.089011</td>\n",
       "      <td>0.688761</td>\n",
       "      <td>1.274770</td>\n",
       "    </tr>\n",
       "    <tr>\n",
       "      <td>16</td>\n",
       "      <td>16</td>\n",
       "      <td>0.972599</td>\n",
       "      <td>0.079785</td>\n",
       "      <td>0.682997</td>\n",
       "      <td>1.336039</td>\n",
       "    </tr>\n",
       "    <tr>\n",
       "      <td>17</td>\n",
       "      <td>17</td>\n",
       "      <td>0.974536</td>\n",
       "      <td>0.083437</td>\n",
       "      <td>0.677233</td>\n",
       "      <td>1.357983</td>\n",
       "    </tr>\n",
       "    <tr>\n",
       "      <td>18</td>\n",
       "      <td>18</td>\n",
       "      <td>0.973706</td>\n",
       "      <td>0.081685</td>\n",
       "      <td>0.654179</td>\n",
       "      <td>1.389876</td>\n",
       "    </tr>\n",
       "    <tr>\n",
       "      <td>19</td>\n",
       "      <td>19</td>\n",
       "      <td>0.974260</td>\n",
       "      <td>0.076630</td>\n",
       "      <td>0.688761</td>\n",
       "      <td>1.385234</td>\n",
       "    </tr>\n",
       "    <tr>\n",
       "      <td>20</td>\n",
       "      <td>20</td>\n",
       "      <td>0.975643</td>\n",
       "      <td>0.067739</td>\n",
       "      <td>0.682997</td>\n",
       "      <td>1.412179</td>\n",
       "    </tr>\n",
       "    <tr>\n",
       "      <td>21</td>\n",
       "      <td>21</td>\n",
       "      <td>0.976474</td>\n",
       "      <td>0.066733</td>\n",
       "      <td>0.662824</td>\n",
       "      <td>1.450171</td>\n",
       "    </tr>\n",
       "    <tr>\n",
       "      <td>22</td>\n",
       "      <td>22</td>\n",
       "      <td>0.976474</td>\n",
       "      <td>0.067269</td>\n",
       "      <td>0.682997</td>\n",
       "      <td>1.479085</td>\n",
       "    </tr>\n",
       "    <tr>\n",
       "      <td>23</td>\n",
       "      <td>23</td>\n",
       "      <td>0.977581</td>\n",
       "      <td>0.066876</td>\n",
       "      <td>0.682997</td>\n",
       "      <td>1.428367</td>\n",
       "    </tr>\n",
       "    <tr>\n",
       "      <td>24</td>\n",
       "      <td>24</td>\n",
       "      <td>0.977027</td>\n",
       "      <td>0.067776</td>\n",
       "      <td>0.680115</td>\n",
       "      <td>1.474575</td>\n",
       "    </tr>\n",
       "  </tbody>\n",
       "</table>\n",
       "</div>"
      ],
      "text/plain": [
       "    epoch  accuracy      loss  val_accuracy  val_loss\n",
       "0       0  0.376695  1.318748      0.463977  1.260115\n",
       "1       1  0.639358  0.980372      0.642651  0.957817\n",
       "2       2  0.789372  0.585165      0.694524  0.812088\n",
       "3       3  0.837531  0.423604      0.685879  0.826111\n",
       "4       4  0.872682  0.340456      0.708934  0.777009\n",
       "5       5  0.898699  0.279962      0.714697  0.834833\n",
       "6       6  0.922779  0.231137      0.682997  0.914465\n",
       "7       7  0.938278  0.196167      0.700288  0.960180\n",
       "8       8  0.945751  0.167376      0.697406  0.990643\n",
       "9       9  0.955992  0.145909      0.682997  1.051301\n",
       "10     10  0.960421  0.132309      0.691643  1.074099\n",
       "11     11  0.964019  0.120175      0.697406  1.118009\n",
       "12     12  0.965126  0.114730      0.674352  1.204706\n",
       "13     13  0.969001  0.109127      0.674352  1.247851\n",
       "14     14  0.967063  0.096554      0.688761  1.234039\n",
       "15     15  0.970661  0.089011      0.688761  1.274770\n",
       "16     16  0.972599  0.079785      0.682997  1.336039\n",
       "17     17  0.974536  0.083437      0.677233  1.357983\n",
       "18     18  0.973706  0.081685      0.654179  1.389876\n",
       "19     19  0.974260  0.076630      0.688761  1.385234\n",
       "20     20  0.975643  0.067739      0.682997  1.412179\n",
       "21     21  0.976474  0.066733      0.662824  1.450171\n",
       "22     22  0.976474  0.067269      0.682997  1.479085\n",
       "23     23  0.977581  0.066876      0.682997  1.428367\n",
       "24     24  0.977027  0.067776      0.680115  1.474575"
      ]
     },
     "execution_count": 30,
     "metadata": {},
     "output_type": "execute_result"
    }
   ],
   "source": [
    "training_log = pd.DataFrame()\n",
    "training_log = pd.read_csv(\"logs/training_log.csv\")\n",
    "training_log"
   ]
  },
  {
   "cell_type": "code",
   "execution_count": 31,
   "metadata": {},
   "outputs": [
    {
     "data": {
      "text/plain": [
       "[]"
      ]
     },
     "execution_count": 31,
     "metadata": {},
     "output_type": "execute_result"
    },
    {
     "data": {
      "image/png": "[encoded data removed]",
      "text/plain": [
       "<Figure size 432x288 with 2 Axes>"
      ]
     },
     "metadata": {
      "needs_background": "light"
     },
     "output_type": "display_data"
    }
   ],
   "source": [
    "# Answer here\n",
    "import matplotlib.pyplot as plt\n",
    "\n",
    "plt.subplot(1,2,1)\n",
    "training_log['val_accuracy'].plot(label='val accuracy', color='red')\n",
    "training_log['accuracy'].plot(label='train accuracy', color='blue')\n",
    "\n",
    "plt.title(\"Training Acc per Epoch\")\n",
    "plt.xlabel('Epochs')\n",
    "plt.ylabel('Acc')\n",
    "plt.legend()\n",
    "\n",
    "plt.plot()\n",
    "\n",
    "plt.subplot(1,2,2)\n",
    "training_log['loss'].plot(label='val loss', color='red')\n",
    "training_log['val_loss'].plot(label='train loss', color='blue')\n",
    "\n",
    "plt.title(\"Training Loss per Epoch\")\n",
    "plt.xlabel('Epochs')\n",
    "plt.ylabel('Acc')\n",
    "plt.legend()\n",
    "\n",
    "plt.plot()"
   ]
  },
  {
   "cell_type": "code",
   "execution_count": null,
   "metadata": {},
   "outputs": [],
   "source": [
    "# After the third epochs is overfitting because the loss is starting to rise.\n",
    "# Before third epochs is underfitting becuase the result is still improving,\n",
    "#   which not at local minimun yet."
   ]
  },
  {
   "cell_type": "markdown",
   "metadata": {},
   "source": [
    "---\n",
    "### ** >>> Exercise 7 (Take home): **  \n",
    "\n",
    "Now, we have the word vectors, but our input data is a sequence of words (or say sentence). \n",
    "How can we utilize these \"word\" vectors to represent the sentence data and train our model?\n"
   ]
  },
  {
   "cell_type": "code",
   "execution_count": 32,
   "metadata": {},
   "outputs": [],
   "source": [
    "# Answer here\n",
    "# Same as how we utilize the \"word\" vectors. We can also utilize the sentence vector.\n",
    "# A simlple example is \"bag of word\". Each sentence is a combination of words.\n",
    "\n",
    "# The most well known technic now is call Bert.\n",
    "# Not just it contain the information of sequence. It can also solve several task such as: \n",
    "# sentiment analysis, document classification, slot filling, natural language inference, question answering\n",
    "# all above task train base on sentence, or enhance document ( combination of sentence)."
   ]
  },
  {
   "cell_type": "markdown",
   "metadata": {},
   "source": [
    "---\n",
    "### ** >>> Exercise 8 (Take home): **  \n",
    "\n",
    "Generate a t-SNE visualization to show the 15 words most related to the words \"angry\", \"happy\", \"sad\", \"fear\" (60 words total)."
   ]
  },
  {
   "cell_type": "code",
   "execution_count": 33,
   "metadata": {},
   "outputs": [
    {
     "name": "stdout",
     "output_type": "stream",
     "text": [
      "load ok\n"
     ]
    }
   ],
   "source": [
    "from gensim.models import KeyedVectors\n",
    "\n",
    "## Note: this model is very huge, this will take some time ...\n",
    "model_path = \"GoogleNews/GoogleNews-vectors-negative300.bin.gz\"\n",
    "w2v_google_model = KeyedVectors.load_word2vec_format(model_path, binary=True)\n",
    "print('load ok')"
   ]
  },
  {
   "cell_type": "code",
   "execution_count": 34,
   "metadata": {},
   "outputs": [
    {
     "name": "stdout",
     "output_type": "stream",
     "text": [
      "happy_words:  ['happy', 'glad', 'pleased', 'ecstatic', 'overjoyed', 'thrilled', 'satisfied', 'proud', 'delighted', 'disappointed', 'excited', 'happier', 'Said_Hirschbeck', 'elated', 'thankful', 'unhappy']\n",
      "angry_words:  ['angry', 'irate', 'enraged', 'indignant', 'incensed', 'annoyed', 'agitated', 'frustrated', 'furious', 'unhappy', 'outraged', 'livid', 'irritated', 'exasperated', 'angrier', 'Angry']\n",
      "sad_words:  ['sad', 'saddening', 'Sad', 'saddened', 'heartbreaking', 'disheartening', 'Meny_Friedman', 'parishioner_Pat_Patello', 'saddens_me', 'distressing', 'reminders_bobbing', 'Turkoman_Shiites', 'saddest', 'unfortunate', 'sorry', 'bittersweet']\n",
      "fear_words:  ['fear', 'fearful', 'fears', 'Fear', 'fearing', 'worry', 'dread', 'feared', 'anxiety', 'apprehension', 'afraid', 'worries', 'concern', 'distrust', 'worried', 'Fearful']\n",
      "\n",
      "target words: \n",
      "['happy', 'glad', 'pleased', 'ecstatic', 'overjoyed', 'thrilled', 'satisfied', 'proud', 'delighted', 'disappointed', 'excited', 'happier', 'Said_Hirschbeck', 'elated', 'thankful', 'unhappy', 'angry', 'irate', 'enraged', 'indignant', 'incensed', 'annoyed', 'agitated', 'frustrated', 'furious', 'unhappy', 'outraged', 'livid', 'irritated', 'exasperated', 'angrier', 'Angry', 'sad', 'saddening', 'Sad', 'saddened', 'heartbreaking', 'disheartening', 'Meny_Friedman', 'parishioner_Pat_Patello', 'saddens_me', 'distressing', 'reminders_bobbing', 'Turkoman_Shiites', 'saddest', 'unfortunate', 'sorry', 'bittersweet', 'fear', 'fearful', 'fears', 'Fear', 'fearing', 'worry', 'dread', 'feared', 'anxiety', 'apprehension', 'afraid', 'worries', 'concern', 'distrust', 'worried', 'Fearful']\n",
      "\n",
      "color list:\n",
      "['b', 'b', 'b', 'b', 'b', 'b', 'b', 'b', 'b', 'b', 'b', 'b', 'b', 'b', 'b', 'b', 'g', 'g', 'g', 'g', 'g', 'g', 'g', 'g', 'g', 'g', 'g', 'g', 'g', 'g', 'g', 'g', 'r', 'r', 'r', 'r', 'r', 'r', 'r', 'r', 'r', 'r', 'r', 'r', 'r', 'r', 'r', 'r', 'y', 'y', 'y', 'y', 'y', 'y', 'y', 'y', 'y', 'y', 'y', 'y', 'y', 'y', 'y', 'y']\n"
     ]
    }
   ],
   "source": [
    "# Answer here\n",
    "\n",
    "word_list = ['happy', 'angry', 'sad', 'fear']\n",
    "\n",
    "topn = 15\n",
    "happy_words = ['happy'] + [word_ for word_, sim_ in w2v_google_model.most_similar('happy', topn=topn)]\n",
    "angry_words = ['angry'] + [word_ for word_, sim_ in w2v_google_model.most_similar('angry', topn=topn)]        \n",
    "sad_words = ['sad'] + [word_ for word_, sim_ in w2v_google_model.most_similar('sad', topn=topn)]        \n",
    "fear_words = ['fear'] + [word_ for word_, sim_ in w2v_google_model.most_similar('fear', topn=topn)]        \n",
    "\n",
    "print('happy_words: ', happy_words)\n",
    "print('angry_words: ', angry_words)\n",
    "print('sad_words: ', sad_words)\n",
    "print('fear_words: ', fear_words)\n",
    "\n",
    "target_words = happy_words + angry_words + sad_words + fear_words\n",
    "print('\\ntarget words: ')\n",
    "print(target_words)\n",
    "\n",
    "print('\\ncolor list:')\n",
    "cn = topn + 1\n",
    "color = ['b'] * cn + ['g'] * cn + ['r'] * cn + ['y'] * cn\n",
    "print(color)"
   ]
  },
  {
   "cell_type": "code",
   "execution_count": 35,
   "metadata": {},
   "outputs": [
    {
     "data": {
      "image/png": "[encoded data removed]",
      "text/plain": [
       "<Figure size 862.5x862.5 with 1 Axes>"
      ]
     },
     "metadata": {
      "needs_background": "light"
     },
     "output_type": "display_data"
    }
   ],
   "source": [
    "%matplotlib inline\n",
    "import matplotlib.pyplot as plt\n",
    "from sklearn.manifold import TSNE\n",
    "\n",
    "## w2v model\n",
    "model = w2v_google_model\n",
    "\n",
    "## prepare training word vectors\n",
    "size = 200\n",
    "target_size = len(target_words)\n",
    "all_word = list(model.vocab.keys())\n",
    "word_train = target_words + all_word[:size]\n",
    "X_train = model[word_train]\n",
    "\n",
    "## t-SNE model\n",
    "tsne = TSNE(n_components=2, metric='cosine', random_state=28)\n",
    "\n",
    "## training\n",
    "X_tsne = tsne.fit_transform(X_train)\n",
    "\n",
    "## plot the result\n",
    "plt.figure(figsize=(7.5, 7.5), dpi=115)\n",
    "plt.scatter(X_tsne[:target_size, 0], X_tsne[:target_size, 1], c=color)\n",
    "for label, x, y in zip(target_words, X_tsne[:target_size, 0], X_tsne[:target_size, 1]):\n",
    "    plt.annotate(label, xy=(x,y), xytext=(0,0),  textcoords='offset points')\n",
    "plt.show()"
   ]
  },
  {
   "cell_type": "markdown",
   "metadata": {},
   "source": [
    "# Second "
   ]
  },
  {
   "cell_type": "code",
   "execution_count": null,
   "metadata": {},
   "outputs": [],
   "source": [
    "# all the code demo below are set to very same size\n",
    "# so it can show very fast"
   ]
  },
  {
   "cell_type": "markdown",
   "metadata": {},
   "source": [
    "<img src=\"pics/score.png\"/> "
   ]
  },
  {
   "cell_type": "code",
   "execution_count": null,
   "metadata": {},
   "outputs": [],
   "source": []
  },
  {
   "cell_type": "code",
   "execution_count": null,
   "metadata": {},
   "outputs": [],
   "source": []
  },
  {
   "cell_type": "markdown",
   "metadata": {},
   "source": [
    "## First Try"
   ]
  },
  {
   "cell_type": "markdown",
   "metadata": {},
   "source": [
    "### preprocessing steps"
   ]
  },
  {
   "cell_type": "code",
   "execution_count": 1,
   "metadata": {},
   "outputs": [],
   "source": [
    "import pandas as pd\n",
    "train = pd.read_pickle(\"KaggleData/df_train.pkl\")\n",
    "test = pd.read_pickle('KaggleData/df_test.pkl')"
   ]
  },
  {
   "cell_type": "code",
   "execution_count": 2,
   "metadata": {},
   "outputs": [
    {
     "data": {
      "text/plain": [
       "joy             516017\n",
       "anticipation    248935\n",
       "trust           205478\n",
       "sadness         193437\n",
       "disgust         139101\n",
       "fear             63999\n",
       "surprise         48729\n",
       "anger            39867\n",
       "Name: emotion, dtype: int64"
      ]
     },
     "execution_count": 2,
     "metadata": {},
     "output_type": "execute_result"
    }
   ],
   "source": [
    "train['emotion'].value_counts()"
   ]
  },
  {
   "cell_type": "code",
   "execution_count": 3,
   "metadata": {},
   "outputs": [
    {
     "name": "stdout",
     "output_type": "stream",
     "text": [
      "['anticipation' 'sadness' 'trust' 'fear' 'joy' 'disgust' 'surprise'\n",
      " 'anger']\n",
      "sample_train_df:  (400, 6)\n",
      "sample_test_df:  (400, 6)\n"
     ]
    }
   ],
   "source": [
    "# equal sample emotion:\n",
    "# since majority of the training data is joy\n",
    "# I think it'll be better for model to modulify by sample equal training data on each emotion\n",
    "emotion_list = train['emotion'].unique()\n",
    "\n",
    "sample_amount = 100\n",
    "half_sample_amount = int(sample_amount/2)\n",
    "sample_train_df = pd.DataFrame()\n",
    "sample_test_df = pd.DataFrame()\n",
    "\n",
    "print(emotion_list)\n",
    "for e in emotion_list:\n",
    "    collect = train[ train['emotion'] == e].sample(sample_amount)\n",
    "    sample_train_df = pd.concat([sample_train_df, collect[0:half_sample_amount]])\n",
    "    sample_test_df = pd.concat([sample_test_df, collect[half_sample_amount:]])\n",
    "    \n",
    "print('sample_train_df: ',sample_train_df.shape)\n",
    "print('sample_test_df: ',sample_test_df.shape)"
   ]
  },
  {
   "cell_type": "code",
   "execution_count": 4,
   "metadata": {},
   "outputs": [
    {
     "data": {
      "text/plain": [
       "1129014            fear\n",
       "320206          sadness\n",
       "323829            trust\n",
       "1636085    anticipation\n",
       "1782571             joy\n",
       "Name: emotion, dtype: object"
      ]
     },
     "execution_count": 4,
     "metadata": {},
     "output_type": "execute_result"
    }
   ],
   "source": [
    "# then shuffle the data to make it more random\n",
    "from sklearn.utils import shuffle\n",
    "sample_train_df = shuffle(sample_train_df)\n",
    "sample_test_df = shuffle(sample_test_df)\n",
    "\n",
    "sample_train_df['emotion'].head()  # make sure it is shuffled"
   ]
  },
  {
   "cell_type": "markdown",
   "metadata": {},
   "source": [
    "### the feature engineering"
   ]
  },
  {
   "cell_type": "code",
   "execution_count": 5,
   "metadata": {},
   "outputs": [
    {
     "data": {
      "text/plain": [
       "(400, 100)"
      ]
     },
     "execution_count": 5,
     "metadata": {},
     "output_type": "execute_result"
    }
   ],
   "source": [
    "# I used bag of word to find out the features\n",
    "\n",
    "import nltk\n",
    "from sklearn.feature_extraction.text import CountVectorizer\n",
    "\n",
    "# build analyzers (bag-of-words)\n",
    "BOW_1000 = CountVectorizer(max_features=100, tokenizer=nltk.word_tokenize) \n",
    "\n",
    "# apply analyzer to training data\n",
    "BOW_1000.fit(sample_train_df['text'])\n",
    "\n",
    "sample_train_data_BOW_features_1000 = BOW_1000.transform(sample_train_df['text'])\n",
    "\n",
    "## check dimension\n",
    "sample_train_data_BOW_features_1000.shape"
   ]
  },
  {
   "cell_type": "code",
   "execution_count": 6,
   "metadata": {},
   "outputs": [
    {
     "name": "stderr",
     "output_type": "stream",
     "text": [
      "Using TensorFlow backend.\n",
      "/usr/local/lib/python3.6/dist-packages/tensorflow/python/framework/dtypes.py:526: FutureWarning: Passing (type, 1) or '1type' as a synonym of type is deprecated; in a future version of numpy, it will be understood as (type, (1,)) / '(1,)type'.\n",
      "  _np_qint8 = np.dtype([(\"qint8\", np.int8, 1)])\n",
      "/usr/local/lib/python3.6/dist-packages/tensorflow/python/framework/dtypes.py:527: FutureWarning: Passing (type, 1) or '1type' as a synonym of type is deprecated; in a future version of numpy, it will be understood as (type, (1,)) / '(1,)type'.\n",
      "  _np_quint8 = np.dtype([(\"quint8\", np.uint8, 1)])\n",
      "/usr/local/lib/python3.6/dist-packages/tensorflow/python/framework/dtypes.py:528: FutureWarning: Passing (type, 1) or '1type' as a synonym of type is deprecated; in a future version of numpy, it will be understood as (type, (1,)) / '(1,)type'.\n",
      "  _np_qint16 = np.dtype([(\"qint16\", np.int16, 1)])\n",
      "/usr/local/lib/python3.6/dist-packages/tensorflow/python/framework/dtypes.py:529: FutureWarning: Passing (type, 1) or '1type' as a synonym of type is deprecated; in a future version of numpy, it will be understood as (type, (1,)) / '(1,)type'.\n",
      "  _np_quint16 = np.dtype([(\"quint16\", np.uint16, 1)])\n",
      "/usr/local/lib/python3.6/dist-packages/tensorflow/python/framework/dtypes.py:530: FutureWarning: Passing (type, 1) or '1type' as a synonym of type is deprecated; in a future version of numpy, it will be understood as (type, (1,)) / '(1,)type'.\n",
      "  _np_qint32 = np.dtype([(\"qint32\", np.int32, 1)])\n",
      "/usr/local/lib/python3.6/dist-packages/tensorflow/python/framework/dtypes.py:535: FutureWarning: Passing (type, 1) or '1type' as a synonym of type is deprecated; in a future version of numpy, it will be understood as (type, (1,)) / '(1,)type'.\n",
      "  np_resource = np.dtype([(\"resource\", np.ubyte, 1)])\n"
     ]
    },
    {
     "name": "stdout",
     "output_type": "stream",
     "text": [
      "X_train.shape:  (400, 100)\n",
      "y_train.shape:  (400,)\n",
      "X_test.shape:  (400, 100)\n",
      "y_test.shape:  (400,)\n"
     ]
    }
   ],
   "source": [
    "# just fitting the training data\n",
    "\n",
    "import keras\n",
    "# standardize name (X, y) \n",
    "X_train = BOW_1000.transform(sample_train_df['text'])\n",
    "y_train = sample_train_df['emotion']\n",
    "\n",
    "X_test = BOW_1000.transform(sample_test_df['text'])\n",
    "y_test = sample_test_df['emotion']\n",
    "\n",
    "## check dimension is a good habbit \n",
    "print('X_train.shape: ', X_train.shape)\n",
    "print('y_train.shape: ', y_train.shape)\n",
    "print('X_test.shape: ', X_test.shape)\n",
    "print('y_test.shape: ', y_test.shape)"
   ]
  },
  {
   "cell_type": "code",
   "execution_count": 7,
   "metadata": {},
   "outputs": [
    {
     "name": "stdout",
     "output_type": "stream",
     "text": [
      "check label:  ['anger' 'anticipation' 'disgust' 'fear' 'joy' 'sadness' 'surprise'\n",
      " 'trust']\n",
      "\n",
      "## Before convert\n",
      "y_train[0:4]:\n",
      " 1129014            fear\n",
      "320206          sadness\n",
      "323829            trust\n",
      "1636085    anticipation\n",
      "Name: emotion, dtype: object\n",
      "\n",
      "y_train.shape:  (400,)\n",
      "y_test.shape:  (400,)\n",
      "\n",
      "\n",
      "## After convert\n",
      "y_train[0:4]:\n",
      " [[0. 0. 0. 1. 0. 0. 0. 0.]\n",
      " [0. 0. 0. 0. 0. 1. 0. 0.]\n",
      " [0. 0. 0. 0. 0. 0. 0. 1.]\n",
      " [0. 1. 0. 0. 0. 0. 0. 0.]]\n",
      "\n",
      "y_train.shape:  (400, 8)\n",
      "y_test.shape:  (400, 8)\n"
     ]
    }
   ],
   "source": [
    "## deal with label (string -> one-hot)\n",
    "from sklearn.preprocessing import LabelEncoder\n",
    "\n",
    "label_encoder = LabelEncoder()\n",
    "label_encoder.fit(y_train)\n",
    "print('check label: ', label_encoder.classes_)\n",
    "print('\\n## Before convert')\n",
    "print('y_train[0:4]:\\n', y_train[0:4])\n",
    "print('\\ny_train.shape: ', y_train.shape)\n",
    "print('y_test.shape: ', y_test.shape)\n",
    "\n",
    "def label_encode(le, labels):\n",
    "    enc = le.transform(labels)\n",
    "    return keras.utils.to_categorical(enc)\n",
    "\n",
    "def label_decode(le, one_hot_label):\n",
    "    dec = np.argmax(one_hot_label, axis=1)\n",
    "    return le.inverse_transform(dec)\n",
    "\n",
    "y_train = label_encode(label_encoder, y_train)\n",
    "y_test = label_encode(label_encoder, y_test)\n",
    "\n",
    "print('\\n\\n## After convert')\n",
    "print('y_train[0:4]:\\n', y_train[0:4])\n",
    "print('\\ny_train.shape: ', y_train.shape)\n",
    "print('y_test.shape: ', y_test.shape)"
   ]
  },
  {
   "cell_type": "code",
   "execution_count": 8,
   "metadata": {},
   "outputs": [
    {
     "name": "stdout",
     "output_type": "stream",
     "text": [
      "input_shape:  100\n",
      "output_shape:  8\n"
     ]
    }
   ],
   "source": [
    "# I/O check\n",
    "input_shape = X_train.shape[1]\n",
    "print('input_shape: ', input_shape)\n",
    "\n",
    "output_shape = len(label_encoder.classes_)\n",
    "print('output_shape: ', output_shape)"
   ]
  },
  {
   "cell_type": "markdown",
   "metadata": {},
   "source": [
    "### an explanation of your model"
   ]
  },
  {
   "cell_type": "code",
   "execution_count": 9,
   "metadata": {},
   "outputs": [
    {
     "name": "stdout",
     "output_type": "stream",
     "text": [
      "WARNING:tensorflow:From /usr/local/lib/python3.6/dist-packages/tensorflow/python/ops/resource_variable_ops.py:435: colocate_with (from tensorflow.python.framework.ops) is deprecated and will be removed in a future version.\n",
      "Instructions for updating:\n",
      "Colocations handled automatically by placer.\n",
      "Model: \"model_1\"\n",
      "_________________________________________________________________\n",
      "Layer (type)                 Output Shape              Param #   \n",
      "=================================================================\n",
      "input_1 (InputLayer)         (None, 100)               0         \n",
      "_________________________________________________________________\n",
      "dense_1 (Dense)              (None, 512)               51712     \n",
      "_________________________________________________________________\n",
      "re_lu_1 (ReLU)               (None, 512)               0         \n",
      "_________________________________________________________________\n",
      "dense_2 (Dense)              (None, 512)               262656    \n",
      "_________________________________________________________________\n",
      "re_lu_2 (ReLU)               (None, 512)               0         \n",
      "_________________________________________________________________\n",
      "dense_3 (Dense)              (None, 256)               131328    \n",
      "_________________________________________________________________\n",
      "re_lu_3 (ReLU)               (None, 256)               0         \n",
      "_________________________________________________________________\n",
      "dense_4 (Dense)              (None, 256)               65792     \n",
      "_________________________________________________________________\n",
      "re_lu_4 (ReLU)               (None, 256)               0         \n",
      "_________________________________________________________________\n",
      "dense_5 (Dense)              (None, 128)               32896     \n",
      "_________________________________________________________________\n",
      "re_lu_5 (ReLU)               (None, 128)               0         \n",
      "_________________________________________________________________\n",
      "dense_6 (Dense)              (None, 128)               16512     \n",
      "_________________________________________________________________\n",
      "re_lu_6 (ReLU)               (None, 128)               0         \n",
      "_________________________________________________________________\n",
      "dense_7 (Dense)              (None, 64)                8256      \n",
      "_________________________________________________________________\n",
      "re_lu_7 (ReLU)               (None, 64)                0         \n",
      "_________________________________________________________________\n",
      "dense_8 (Dense)              (None, 64)                4160      \n",
      "_________________________________________________________________\n",
      "re_lu_8 (ReLU)               (None, 64)                0         \n",
      "_________________________________________________________________\n",
      "dense_9 (Dense)              (None, 32)                2080      \n",
      "_________________________________________________________________\n",
      "re_lu_9 (ReLU)               (None, 32)                0         \n",
      "_________________________________________________________________\n",
      "dense_10 (Dense)             (None, 16)                528       \n",
      "_________________________________________________________________\n",
      "re_lu_10 (ReLU)              (None, 16)                0         \n",
      "_________________________________________________________________\n",
      "dense_11 (Dense)             (None, 8)                 136       \n",
      "_________________________________________________________________\n",
      "softmax_1 (Softmax)          (None, 8)                 0         \n",
      "=================================================================\n",
      "Total params: 576,056\n",
      "Trainable params: 576,056\n",
      "Non-trainable params: 0\n",
      "_________________________________________________________________\n"
     ]
    }
   ],
   "source": [
    "# my model is a ten layer NN\n",
    "# input will be the size of BagOfWord\n",
    "# output will be the 8 emotion\n",
    "\n",
    "from keras.models import Model\n",
    "from keras.layers import Input, Dense\n",
    "from keras.layers import ReLU, Softmax\n",
    "\n",
    "# input layer\n",
    "model_input = Input(shape=(input_shape, ))  # 1000\n",
    "X = model_input\n",
    "\n",
    "# 1st hidden layer\n",
    "X_W1 = Dense(units=512)(X)  # 512\n",
    "H1 = ReLU()(X_W1)\n",
    "\n",
    "# 2nd hidden layer\n",
    "H1_W2 = Dense(units=512)(H1)  # 256\n",
    "H2 = ReLU()(H1_W2)\n",
    "\n",
    "# 3nd hidden layer\n",
    "H2_W3 = Dense(units=256)(H2)  # 128\n",
    "H3 = ReLU()(H2_W3)\n",
    "\n",
    "# 4nd hidden layer\n",
    "H3_W4 = Dense(units=256)(H3)  # 64\n",
    "H4 = ReLU()(H3_W4)\n",
    "\n",
    "# 5nd hidden layer\n",
    "H4_W5 = Dense(units=128)(H4)  # 32\n",
    "H5 = ReLU()(H4_W5)\n",
    "#-----\n",
    "# 6st hidden layer\n",
    "H5_W6 = Dense(units=128)(H5)  # 512\n",
    "H6 = ReLU()(H5_W6)\n",
    "\n",
    "# 7nd hidden layer\n",
    "H6_W7 = Dense(units=64)(H6)  # 256\n",
    "H7 = ReLU()(H6_W7)\n",
    "\n",
    "# 8nd hidden layer\n",
    "H7_W8 = Dense(units=64)(H7)  # 128\n",
    "H8 = ReLU()(H7_W8)\n",
    "\n",
    "# 9nd hidden layer\n",
    "H8_W9 = Dense(units=32)(H8)  # 64\n",
    "H9 = ReLU()(H8_W9)\n",
    "\n",
    "# 10nd hidden layer\n",
    "H9_W10 = Dense(units=16)(H9)  # 32\n",
    "H10 = ReLU()(H9_W10)\n",
    "\n",
    "# output layer\n",
    "H10_W11 = Dense(units=output_shape)(H10)  # 8\n",
    "H11 = Softmax()(H10_W11)\n",
    "\n",
    "model_output = H11\n",
    "\n",
    "# create model\n",
    "model = Model(inputs=[model_input], outputs=[model_output])\n",
    "\n",
    "# loss function & optimizer\n",
    "model.compile(optimizer='adam',\n",
    "              loss='categorical_crossentropy',\n",
    "              metrics=['accuracy'])\n",
    "\n",
    "# show model construction\n",
    "model.summary()"
   ]
  },
  {
   "cell_type": "markdown",
   "metadata": {},
   "source": [
    "result: \n",
    "sample each emotion equal, 3 layer , 25-epoch =  0.26454\n",
    "sample each emotion equal, 3 layer ,  1-epoch =  0.29654\n",
    "randomSample             , 3 layer , 25-epoch =  0.33609\n",
    "randomSample             , 3 layer ,  1-epoch =  0.41453 \n",
    "randomSample             , 10layer , 10-epoch =  0.35204\n",
    "randomSample             , 10layer ,  3-epoch =  0.39832\n",
    "All Data                 , 10layer ,  3-epoch =  0.41130\n",
    "All Data                 , 10layer ,  1-epoch =  0.40253\n",
    "All Data                 ,  3layer ,  1-epoch =  0.43155 *"
   ]
  },
  {
   "cell_type": "markdown",
   "metadata": {},
   "source": [
    "---"
   ]
  },
  {
   "cell_type": "markdown",
   "metadata": {},
   "source": [
    "## Second Try"
   ]
  },
  {
   "cell_type": "markdown",
   "metadata": {},
   "source": [
    "### preprocessing steps"
   ]
  },
  {
   "cell_type": "code",
   "execution_count": 10,
   "metadata": {},
   "outputs": [],
   "source": [
    "# try to figure out the relationship between tag and emotion\n",
    "\n",
    "# create tag_dict    to find out all tags\n",
    "def create_tag_dict(sample_train_df):\n",
    "    tag_dict = dict({'@': 0}) # this is a dummy, incase there are no \"tag\"\n",
    "    for tag in sample_train_df['hashtags']:\n",
    "        end = len(tag)\n",
    "        if (end == 0):\n",
    "            continue\n",
    "        elif (end == 1):\n",
    "            if tag[0] not in tag_dict.keys():\n",
    "                tag_dict[tag[0]] = 1\n",
    "            else:\n",
    "                tag_dict[tag[0]] = tag_dict[tag[0]] + 1\n",
    "        else:\n",
    "            for t in tag:\n",
    "                if t not in tag_dict.keys():\n",
    "                    tag_dict[t] = 1\n",
    "                else:\n",
    "                    tag_dict[t] = tag_dict[t] + 1\n",
    "    return tag_dict\n",
    "\n",
    "tag_dict = create_tag_dict(sample_train_df)\n",
    "test_tag_dict = create_tag_dict(test)\n"
   ]
  },
  {
   "cell_type": "code",
   "execution_count": 11,
   "metadata": {},
   "outputs": [
    {
     "name": "stdout",
     "output_type": "stream",
     "text": [
      "same tags: 252    , different: 109641\n"
     ]
    }
   ],
   "source": [
    "# to see the how many tag in test data are related\n",
    "count_in = 0\n",
    "count_not = 0\n",
    "for tag in test_tag_dict:\n",
    "    if (tag in tag_dict):\n",
    "        count_in += 1\n",
    "    else:\n",
    "        count_not += 1\n",
    "print(\"same tags:\", count_in, \"   , different:\", count_not)"
   ]
  },
  {
   "cell_type": "code",
   "execution_count": 12,
   "metadata": {},
   "outputs": [
    {
     "name": "stderr",
     "output_type": "stream",
     "text": [
      "/home/robin/.local/lib/python3.6/site-packages/ipykernel_launcher.py:6: SettingWithCopyWarning: \n",
      "A value is trying to be set on a copy of a slice from a DataFrame.\n",
      "Try using .loc[row_indexer,col_indexer] = value instead\n",
      "\n",
      "See the caveats in the documentation: http://pandas.pydata.org/pandas-docs/stable/user_guide/indexing.html#returning-a-view-versus-a-copy\n",
      "  \n"
     ]
    },
    {
     "data": {
      "text/html": [
       "<div>\n",
       "<style scoped>\n",
       "    .dataframe tbody tr th:only-of-type {\n",
       "        vertical-align: middle;\n",
       "    }\n",
       "\n",
       "    .dataframe tbody tr th {\n",
       "        vertical-align: top;\n",
       "    }\n",
       "\n",
       "    .dataframe thead th {\n",
       "        text-align: right;\n",
       "    }\n",
       "</style>\n",
       "<table border=\"1\" class=\"dataframe\">\n",
       "  <thead>\n",
       "    <tr style=\"text-align: right;\">\n",
       "      <th></th>\n",
       "      <th>hashtags</th>\n",
       "      <th>score</th>\n",
       "      <th>tagEmt_anticipation</th>\n",
       "      <th>tagEmt_sadness</th>\n",
       "      <th>tagEmt_trust</th>\n",
       "      <th>tagEmt_fear</th>\n",
       "      <th>tagEmt_joy</th>\n",
       "      <th>tagEmt_disgust</th>\n",
       "      <th>tagEmt_surprise</th>\n",
       "      <th>tagEmt_anger</th>\n",
       "    </tr>\n",
       "  </thead>\n",
       "  <tbody>\n",
       "    <tr>\n",
       "      <td>933767</td>\n",
       "      <td>[christmascookie, PumpkinSpice, Coconut]</td>\n",
       "      <td>5</td>\n",
       "      <td>0</td>\n",
       "      <td>0</td>\n",
       "      <td>0</td>\n",
       "      <td>0</td>\n",
       "      <td>0</td>\n",
       "      <td>0</td>\n",
       "      <td>0</td>\n",
       "      <td>0</td>\n",
       "    </tr>\n",
       "    <tr>\n",
       "      <td>547834</td>\n",
       "      <td>[]</td>\n",
       "      <td>6</td>\n",
       "      <td>0</td>\n",
       "      <td>0</td>\n",
       "      <td>0</td>\n",
       "      <td>0</td>\n",
       "      <td>0</td>\n",
       "      <td>0</td>\n",
       "      <td>0</td>\n",
       "      <td>0</td>\n",
       "    </tr>\n",
       "    <tr>\n",
       "      <td>547837</td>\n",
       "      <td>[]</td>\n",
       "      <td>6</td>\n",
       "      <td>0</td>\n",
       "      <td>0</td>\n",
       "      <td>0</td>\n",
       "      <td>0</td>\n",
       "      <td>0</td>\n",
       "      <td>0</td>\n",
       "      <td>0</td>\n",
       "      <td>0</td>\n",
       "    </tr>\n",
       "    <tr>\n",
       "      <td>1439989</td>\n",
       "      <td>[]</td>\n",
       "      <td>7</td>\n",
       "      <td>0</td>\n",
       "      <td>0</td>\n",
       "      <td>0</td>\n",
       "      <td>0</td>\n",
       "      <td>0</td>\n",
       "      <td>0</td>\n",
       "      <td>0</td>\n",
       "      <td>0</td>\n",
       "    </tr>\n",
       "    <tr>\n",
       "      <td>547845</td>\n",
       "      <td>[]</td>\n",
       "      <td>9</td>\n",
       "      <td>0</td>\n",
       "      <td>0</td>\n",
       "      <td>0</td>\n",
       "      <td>0</td>\n",
       "      <td>0</td>\n",
       "      <td>0</td>\n",
       "      <td>0</td>\n",
       "      <td>0</td>\n",
       "    </tr>\n",
       "    <tr>\n",
       "      <td>...</td>\n",
       "      <td>...</td>\n",
       "      <td>...</td>\n",
       "      <td>...</td>\n",
       "      <td>...</td>\n",
       "      <td>...</td>\n",
       "      <td>...</td>\n",
       "      <td>...</td>\n",
       "      <td>...</td>\n",
       "      <td>...</td>\n",
       "      <td>...</td>\n",
       "    </tr>\n",
       "    <tr>\n",
       "      <td>1801198</td>\n",
       "      <td>[PrayingforyoU, God]</td>\n",
       "      <td>7</td>\n",
       "      <td>0</td>\n",
       "      <td>0</td>\n",
       "      <td>0</td>\n",
       "      <td>0</td>\n",
       "      <td>0</td>\n",
       "      <td>0</td>\n",
       "      <td>0</td>\n",
       "      <td>0</td>\n",
       "    </tr>\n",
       "    <tr>\n",
       "      <td>1855749</td>\n",
       "      <td>[]</td>\n",
       "      <td>2</td>\n",
       "      <td>0</td>\n",
       "      <td>0</td>\n",
       "      <td>0</td>\n",
       "      <td>0</td>\n",
       "      <td>0</td>\n",
       "      <td>0</td>\n",
       "      <td>0</td>\n",
       "      <td>0</td>\n",
       "    </tr>\n",
       "    <tr>\n",
       "      <td>1855742</td>\n",
       "      <td>[]</td>\n",
       "      <td>6</td>\n",
       "      <td>0</td>\n",
       "      <td>0</td>\n",
       "      <td>0</td>\n",
       "      <td>0</td>\n",
       "      <td>0</td>\n",
       "      <td>0</td>\n",
       "      <td>0</td>\n",
       "      <td>0</td>\n",
       "    </tr>\n",
       "    <tr>\n",
       "      <td>1701933</td>\n",
       "      <td>[]</td>\n",
       "      <td>6</td>\n",
       "      <td>0</td>\n",
       "      <td>0</td>\n",
       "      <td>0</td>\n",
       "      <td>0</td>\n",
       "      <td>0</td>\n",
       "      <td>0</td>\n",
       "      <td>0</td>\n",
       "      <td>0</td>\n",
       "    </tr>\n",
       "    <tr>\n",
       "      <td>1751905</td>\n",
       "      <td>[]</td>\n",
       "      <td>4</td>\n",
       "      <td>0</td>\n",
       "      <td>0</td>\n",
       "      <td>0</td>\n",
       "      <td>0</td>\n",
       "      <td>0</td>\n",
       "      <td>0</td>\n",
       "      <td>0</td>\n",
       "      <td>0</td>\n",
       "    </tr>\n",
       "  </tbody>\n",
       "</table>\n",
       "<p>411972 rows × 10 columns</p>\n",
       "</div>"
      ],
      "text/plain": [
       "                                         hashtags  score  tagEmt_anticipation  \\\n",
       "933767   [christmascookie, PumpkinSpice, Coconut]      5                    0   \n",
       "547834                                         []      6                    0   \n",
       "547837                                         []      6                    0   \n",
       "1439989                                        []      7                    0   \n",
       "547845                                         []      9                    0   \n",
       "...                                           ...    ...                  ...   \n",
       "1801198                      [PrayingforyoU, God]      7                    0   \n",
       "1855749                                        []      2                    0   \n",
       "1855742                                        []      6                    0   \n",
       "1701933                                        []      6                    0   \n",
       "1751905                                        []      4                    0   \n",
       "\n",
       "         tagEmt_sadness  tagEmt_trust  tagEmt_fear  tagEmt_joy  \\\n",
       "933767                0             0            0           0   \n",
       "547834                0             0            0           0   \n",
       "547837                0             0            0           0   \n",
       "1439989               0             0            0           0   \n",
       "547845                0             0            0           0   \n",
       "...                 ...           ...          ...         ...   \n",
       "1801198               0             0            0           0   \n",
       "1855749               0             0            0           0   \n",
       "1855742               0             0            0           0   \n",
       "1701933               0             0            0           0   \n",
       "1751905               0             0            0           0   \n",
       "\n",
       "         tagEmt_disgust  tagEmt_surprise  tagEmt_anger  \n",
       "933767                0                0             0  \n",
       "547834                0                0             0  \n",
       "547837                0                0             0  \n",
       "1439989               0                0             0  \n",
       "547845                0                0             0  \n",
       "...                 ...              ...           ...  \n",
       "1801198               0                0             0  \n",
       "1855749               0                0             0  \n",
       "1855742               0                0             0  \n",
       "1701933               0                0             0  \n",
       "1751905               0                0             0  \n",
       "\n",
       "[411972 rows x 10 columns]"
      ]
     },
     "execution_count": 12,
     "metadata": {},
     "output_type": "execute_result"
    }
   ],
   "source": [
    "def dataPreprocess(sample_train_df):\n",
    "    #X_train = sample_train_df[['hashtags','text','score', 'date', 'emotion']]\n",
    "    X_train = sample_train_df[['hashtags','score']]\n",
    "\n",
    "    for tmp in ['anticipation', 'sadness', 'trust', 'fear', 'joy', 'disgust', 'surprise', 'anger']:\n",
    "        X_train[str('tagEmt_' + tmp)] = 0\n",
    "    baseline = 5\n",
    "    #X_train['hashtags'] = X_train['hashtags'].apply(lambda x: convert_tag_to_most_common( x, baseline )) ### only save most common tag\n",
    "    X_train['score'] = sample_train_df['score'].apply(lambda x: int(x/100))     ### scaling the score\n",
    "    #print(X_train['score'].value_counts())\n",
    "    return X_train\n",
    "\n",
    "X_train = dataPreprocess(sample_train_df)\n",
    "test_data = dataPreprocess(test)\n",
    "test_data"
   ]
  },
  {
   "cell_type": "markdown",
   "metadata": {},
   "source": [
    "### the feature engineering"
   ]
  },
  {
   "cell_type": "code",
   "execution_count": 13,
   "metadata": {},
   "outputs": [
    {
     "data": {
      "text/html": [
       "<div>\n",
       "<style scoped>\n",
       "    .dataframe tbody tr th:only-of-type {\n",
       "        vertical-align: middle;\n",
       "    }\n",
       "\n",
       "    .dataframe tbody tr th {\n",
       "        vertical-align: top;\n",
       "    }\n",
       "\n",
       "    .dataframe thead th {\n",
       "        text-align: right;\n",
       "    }\n",
       "</style>\n",
       "<table border=\"1\" class=\"dataframe\">\n",
       "  <thead>\n",
       "    <tr style=\"text-align: right;\">\n",
       "      <th></th>\n",
       "      <th>num</th>\n",
       "      <th>anticipation</th>\n",
       "      <th>sadness</th>\n",
       "      <th>trust</th>\n",
       "      <th>fear</th>\n",
       "      <th>joy</th>\n",
       "      <th>disgust</th>\n",
       "      <th>surprise</th>\n",
       "      <th>anger</th>\n",
       "    </tr>\n",
       "  </thead>\n",
       "  <tbody>\n",
       "    <tr>\n",
       "      <td>God</td>\n",
       "      <td>4</td>\n",
       "      <td>4</td>\n",
       "      <td>0</td>\n",
       "      <td>0</td>\n",
       "      <td>0</td>\n",
       "      <td>0</td>\n",
       "      <td>0</td>\n",
       "      <td>0</td>\n",
       "      <td>0</td>\n",
       "    </tr>\n",
       "    <tr>\n",
       "      <td>Trump</td>\n",
       "      <td>3</td>\n",
       "      <td>0</td>\n",
       "      <td>0</td>\n",
       "      <td>0</td>\n",
       "      <td>0</td>\n",
       "      <td>0</td>\n",
       "      <td>2</td>\n",
       "      <td>0</td>\n",
       "      <td>1</td>\n",
       "    </tr>\n",
       "    <tr>\n",
       "      <td>adulting</td>\n",
       "      <td>2</td>\n",
       "      <td>1</td>\n",
       "      <td>0</td>\n",
       "      <td>0</td>\n",
       "      <td>0</td>\n",
       "      <td>1</td>\n",
       "      <td>0</td>\n",
       "      <td>0</td>\n",
       "      <td>0</td>\n",
       "    </tr>\n",
       "    <tr>\n",
       "      <td>MAGA</td>\n",
       "      <td>2</td>\n",
       "      <td>1</td>\n",
       "      <td>0</td>\n",
       "      <td>0</td>\n",
       "      <td>0</td>\n",
       "      <td>0</td>\n",
       "      <td>1</td>\n",
       "      <td>0</td>\n",
       "      <td>0</td>\n",
       "    </tr>\n",
       "    <tr>\n",
       "      <td>frustrated</td>\n",
       "      <td>2</td>\n",
       "      <td>0</td>\n",
       "      <td>0</td>\n",
       "      <td>0</td>\n",
       "      <td>0</td>\n",
       "      <td>0</td>\n",
       "      <td>0</td>\n",
       "      <td>0</td>\n",
       "      <td>2</td>\n",
       "    </tr>\n",
       "    <tr>\n",
       "      <td>...</td>\n",
       "      <td>...</td>\n",
       "      <td>...</td>\n",
       "      <td>...</td>\n",
       "      <td>...</td>\n",
       "      <td>...</td>\n",
       "      <td>...</td>\n",
       "      <td>...</td>\n",
       "      <td>...</td>\n",
       "      <td>...</td>\n",
       "    </tr>\n",
       "    <tr>\n",
       "      <td>womenhaters</td>\n",
       "      <td>1</td>\n",
       "      <td>0</td>\n",
       "      <td>0</td>\n",
       "      <td>0</td>\n",
       "      <td>0</td>\n",
       "      <td>0</td>\n",
       "      <td>1</td>\n",
       "      <td>0</td>\n",
       "      <td>0</td>\n",
       "    </tr>\n",
       "    <tr>\n",
       "      <td>nazis</td>\n",
       "      <td>1</td>\n",
       "      <td>0</td>\n",
       "      <td>0</td>\n",
       "      <td>0</td>\n",
       "      <td>0</td>\n",
       "      <td>0</td>\n",
       "      <td>1</td>\n",
       "      <td>0</td>\n",
       "      <td>0</td>\n",
       "    </tr>\n",
       "    <tr>\n",
       "      <td>Modi</td>\n",
       "      <td>1</td>\n",
       "      <td>0</td>\n",
       "      <td>0</td>\n",
       "      <td>0</td>\n",
       "      <td>0</td>\n",
       "      <td>0</td>\n",
       "      <td>1</td>\n",
       "      <td>0</td>\n",
       "      <td>0</td>\n",
       "    </tr>\n",
       "    <tr>\n",
       "      <td>orgy</td>\n",
       "      <td>1</td>\n",
       "      <td>0</td>\n",
       "      <td>0</td>\n",
       "      <td>0</td>\n",
       "      <td>0</td>\n",
       "      <td>0</td>\n",
       "      <td>0</td>\n",
       "      <td>0</td>\n",
       "      <td>1</td>\n",
       "    </tr>\n",
       "    <tr>\n",
       "      <td>dm</td>\n",
       "      <td>1</td>\n",
       "      <td>0</td>\n",
       "      <td>0</td>\n",
       "      <td>0</td>\n",
       "      <td>0</td>\n",
       "      <td>0</td>\n",
       "      <td>0</td>\n",
       "      <td>1</td>\n",
       "      <td>0</td>\n",
       "    </tr>\n",
       "  </tbody>\n",
       "</table>\n",
       "<p>374 rows × 9 columns</p>\n",
       "</div>"
      ],
      "text/plain": [
       "             num  anticipation  sadness  trust  fear  joy  disgust  surprise  \\\n",
       "God            4             4        0      0     0    0        0         0   \n",
       "Trump          3             0        0      0     0    0        2         0   \n",
       "adulting       2             1        0      0     0    1        0         0   \n",
       "MAGA           2             1        0      0     0    0        1         0   \n",
       "frustrated     2             0        0      0     0    0        0         0   \n",
       "...          ...           ...      ...    ...   ...  ...      ...       ...   \n",
       "womenhaters    1             0        0      0     0    0        1         0   \n",
       "nazis          1             0        0      0     0    0        1         0   \n",
       "Modi           1             0        0      0     0    0        1         0   \n",
       "orgy           1             0        0      0     0    0        0         0   \n",
       "dm             1             0        0      0     0    0        0         1   \n",
       "\n",
       "             anger  \n",
       "God              0  \n",
       "Trump            1  \n",
       "adulting         0  \n",
       "MAGA             0  \n",
       "frustrated       2  \n",
       "...            ...  \n",
       "womenhaters      0  \n",
       "nazis            0  \n",
       "Modi             0  \n",
       "orgy             1  \n",
       "dm               0  \n",
       "\n",
       "[374 rows x 9 columns]"
      ]
     },
     "execution_count": 13,
     "metadata": {},
     "output_type": "execute_result"
    }
   ],
   "source": [
    "# give a better look at the relation between emotion\n",
    "\n",
    "tag_df = pd.DataFrame.from_dict(tag_dict, orient='index', columns=['num'])\n",
    "for tmp in ['anticipation', 'sadness', 'trust', 'fear', 'joy', 'disgust', 'surprise', 'anger']:\n",
    "    tag_df[tmp] = 0\n",
    "\n",
    "# find the relation between emotion & tags\n",
    "for tag, emotion in zip(sample_train_df['hashtags'], sample_train_df['emotion']):\n",
    "    end = len(tag)\n",
    "    if (end == 0):\n",
    "        ;\n",
    "    elif (end == 1):\n",
    "        tag_df.loc[tag[0]][emotion] = tag_df.loc[tag[0]][emotion] + 1\n",
    "    else:\n",
    "        for t in tag:\n",
    "            tag_df.loc[t][emotion] = tag_df.loc[t][emotion] + 1\n",
    "            \n",
    "#Result for [tag & emotion]\n",
    "tag_df[ tag_df['num'] > 0 ].sort_values(by=['num'], ascending=False)"
   ]
  },
  {
   "cell_type": "code",
   "execution_count": 14,
   "metadata": {},
   "outputs": [
    {
     "data": {
      "text/html": [
       "<div>\n",
       "<style scoped>\n",
       "    .dataframe tbody tr th:only-of-type {\n",
       "        vertical-align: middle;\n",
       "    }\n",
       "\n",
       "    .dataframe tbody tr th {\n",
       "        vertical-align: top;\n",
       "    }\n",
       "\n",
       "    .dataframe thead th {\n",
       "        text-align: right;\n",
       "    }\n",
       "</style>\n",
       "<table border=\"1\" class=\"dataframe\">\n",
       "  <thead>\n",
       "    <tr style=\"text-align: right;\">\n",
       "      <th></th>\n",
       "      <th>score</th>\n",
       "      <th>tagEmt_anticipation</th>\n",
       "      <th>tagEmt_sadness</th>\n",
       "      <th>tagEmt_trust</th>\n",
       "      <th>tagEmt_fear</th>\n",
       "      <th>tagEmt_joy</th>\n",
       "      <th>tagEmt_disgust</th>\n",
       "      <th>tagEmt_surprise</th>\n",
       "      <th>tagEmt_anger</th>\n",
       "    </tr>\n",
       "  </thead>\n",
       "  <tbody>\n",
       "    <tr>\n",
       "      <td>1129014</td>\n",
       "      <td>7</td>\n",
       "      <td>0.0</td>\n",
       "      <td>0.0</td>\n",
       "      <td>0.0</td>\n",
       "      <td>0.0</td>\n",
       "      <td>0.0</td>\n",
       "      <td>0.0</td>\n",
       "      <td>0.0</td>\n",
       "      <td>0.0</td>\n",
       "    </tr>\n",
       "    <tr>\n",
       "      <td>320206</td>\n",
       "      <td>9</td>\n",
       "      <td>0.0</td>\n",
       "      <td>0.0</td>\n",
       "      <td>0.0</td>\n",
       "      <td>0.0</td>\n",
       "      <td>0.0</td>\n",
       "      <td>0.0</td>\n",
       "      <td>0.0</td>\n",
       "      <td>0.0</td>\n",
       "    </tr>\n",
       "    <tr>\n",
       "      <td>323829</td>\n",
       "      <td>4</td>\n",
       "      <td>0.0</td>\n",
       "      <td>0.0</td>\n",
       "      <td>0.0</td>\n",
       "      <td>0.0</td>\n",
       "      <td>0.0</td>\n",
       "      <td>0.0</td>\n",
       "      <td>0.0</td>\n",
       "      <td>0.0</td>\n",
       "    </tr>\n",
       "    <tr>\n",
       "      <td>1636085</td>\n",
       "      <td>4</td>\n",
       "      <td>1.0</td>\n",
       "      <td>0.0</td>\n",
       "      <td>0.0</td>\n",
       "      <td>0.0</td>\n",
       "      <td>0.0</td>\n",
       "      <td>0.0</td>\n",
       "      <td>0.0</td>\n",
       "      <td>0.0</td>\n",
       "    </tr>\n",
       "    <tr>\n",
       "      <td>1782571</td>\n",
       "      <td>1</td>\n",
       "      <td>0.0</td>\n",
       "      <td>0.0</td>\n",
       "      <td>0.0</td>\n",
       "      <td>0.0</td>\n",
       "      <td>1.0</td>\n",
       "      <td>0.0</td>\n",
       "      <td>0.0</td>\n",
       "      <td>0.0</td>\n",
       "    </tr>\n",
       "    <tr>\n",
       "      <td>...</td>\n",
       "      <td>...</td>\n",
       "      <td>...</td>\n",
       "      <td>...</td>\n",
       "      <td>...</td>\n",
       "      <td>...</td>\n",
       "      <td>...</td>\n",
       "      <td>...</td>\n",
       "      <td>...</td>\n",
       "      <td>...</td>\n",
       "    </tr>\n",
       "    <tr>\n",
       "      <td>104505</td>\n",
       "      <td>1</td>\n",
       "      <td>0.0</td>\n",
       "      <td>0.0</td>\n",
       "      <td>0.0</td>\n",
       "      <td>0.0</td>\n",
       "      <td>0.0</td>\n",
       "      <td>0.5</td>\n",
       "      <td>0.0</td>\n",
       "      <td>0.5</td>\n",
       "    </tr>\n",
       "    <tr>\n",
       "      <td>656337</td>\n",
       "      <td>6</td>\n",
       "      <td>0.0</td>\n",
       "      <td>0.0</td>\n",
       "      <td>0.0</td>\n",
       "      <td>0.0</td>\n",
       "      <td>0.0</td>\n",
       "      <td>0.0</td>\n",
       "      <td>1.0</td>\n",
       "      <td>0.0</td>\n",
       "    </tr>\n",
       "    <tr>\n",
       "      <td>1601291</td>\n",
       "      <td>4</td>\n",
       "      <td>0.0</td>\n",
       "      <td>0.0</td>\n",
       "      <td>1.0</td>\n",
       "      <td>0.0</td>\n",
       "      <td>0.0</td>\n",
       "      <td>0.0</td>\n",
       "      <td>0.0</td>\n",
       "      <td>0.0</td>\n",
       "    </tr>\n",
       "    <tr>\n",
       "      <td>396089</td>\n",
       "      <td>10</td>\n",
       "      <td>0.0</td>\n",
       "      <td>0.0</td>\n",
       "      <td>0.0</td>\n",
       "      <td>0.0</td>\n",
       "      <td>0.0</td>\n",
       "      <td>0.0</td>\n",
       "      <td>1.0</td>\n",
       "      <td>0.0</td>\n",
       "    </tr>\n",
       "    <tr>\n",
       "      <td>1255920</td>\n",
       "      <td>5</td>\n",
       "      <td>0.0</td>\n",
       "      <td>0.0</td>\n",
       "      <td>0.0</td>\n",
       "      <td>0.0</td>\n",
       "      <td>0.0</td>\n",
       "      <td>0.0</td>\n",
       "      <td>0.0</td>\n",
       "      <td>0.0</td>\n",
       "    </tr>\n",
       "  </tbody>\n",
       "</table>\n",
       "<p>400 rows × 9 columns</p>\n",
       "</div>"
      ],
      "text/plain": [
       "         score  tagEmt_anticipation  tagEmt_sadness  tagEmt_trust  \\\n",
       "1129014      7                  0.0             0.0           0.0   \n",
       "320206       9                  0.0             0.0           0.0   \n",
       "323829       4                  0.0             0.0           0.0   \n",
       "1636085      4                  1.0             0.0           0.0   \n",
       "1782571      1                  0.0             0.0           0.0   \n",
       "...        ...                  ...             ...           ...   \n",
       "104505       1                  0.0             0.0           0.0   \n",
       "656337       6                  0.0             0.0           0.0   \n",
       "1601291      4                  0.0             0.0           1.0   \n",
       "396089      10                  0.0             0.0           0.0   \n",
       "1255920      5                  0.0             0.0           0.0   \n",
       "\n",
       "         tagEmt_fear  tagEmt_joy  tagEmt_disgust  tagEmt_surprise  \\\n",
       "1129014          0.0         0.0             0.0              0.0   \n",
       "320206           0.0         0.0             0.0              0.0   \n",
       "323829           0.0         0.0             0.0              0.0   \n",
       "1636085          0.0         0.0             0.0              0.0   \n",
       "1782571          0.0         1.0             0.0              0.0   \n",
       "...              ...         ...             ...              ...   \n",
       "104505           0.0         0.0             0.5              0.0   \n",
       "656337           0.0         0.0             0.0              1.0   \n",
       "1601291          0.0         0.0             0.0              0.0   \n",
       "396089           0.0         0.0             0.0              1.0   \n",
       "1255920          0.0         0.0             0.0              0.0   \n",
       "\n",
       "         tagEmt_anger  \n",
       "1129014           0.0  \n",
       "320206            0.0  \n",
       "323829            0.0  \n",
       "1636085           0.0  \n",
       "1782571           0.0  \n",
       "...               ...  \n",
       "104505            0.5  \n",
       "656337            0.0  \n",
       "1601291           0.0  \n",
       "396089            0.0  \n",
       "1255920           0.0  \n",
       "\n",
       "[400 rows x 9 columns]"
      ]
     },
     "execution_count": 14,
     "metadata": {},
     "output_type": "execute_result"
    }
   ],
   "source": [
    "# seperate tag into columns, how each tag relate to emotion\n",
    "# create 8 columns each represent one emotion\n",
    "# add up the number of the tag show in emotion and turn into %\n",
    "\n",
    "from IPython.display import display, clear_output\n",
    "def make_tag_emotion(df):  # input dataframe, output dataframe, only change the value of tagEmt\n",
    "    \n",
    "    def tag2emotion(tags): # convert to list\n",
    "        num, anti, sad, trust, fear, joy, dis, surp, anger = 0,0,0,0,0,0,0,0,0\n",
    "        num_tag = 0\n",
    "        if (tags == []):\n",
    "            return [anti, sad, trust, fear, joy, dis, surp, anger]\n",
    "        else:\n",
    "            for tag in tags:\n",
    "                num_tag = num_tag + 1\n",
    "                if (tag not in tag_dict.keys()):\n",
    "                    ;\n",
    "                else:\n",
    "                    num   = tag_df.loc[tag]['num']\n",
    "                    anti  = anti  + tag_df.loc[tag]['anticipation'] / num\n",
    "                    sad   = sad   + tag_df.loc[tag]['sadness'] / num\n",
    "                    trust = trust + tag_df.loc[tag]['trust'] / num\n",
    "                    fear  = fear  + tag_df.loc[tag]['fear'] / num\n",
    "                    joy   = joy   + tag_df.loc[tag]['joy'] / num \n",
    "                    dis   = dis   + tag_df.loc[tag]['disgust'] / num \n",
    "                    surp  = surp  + tag_df.loc[tag]['surprise'] / num\n",
    "                    anger = anger + tag_df.loc[tag]['anger'] / num \n",
    "\n",
    "        anti  = round( anti /num_tag, 3)\n",
    "        sad   = round( sad  /num_tag, 3)\n",
    "        trust = round( trust/num_tag, 3)\n",
    "        fear  = round( fear /num_tag, 3)\n",
    "        joy   = round( joy  /num_tag, 3)\n",
    "        dis   = round( dis  /num_tag, 3)\n",
    "        surp  = round( surp /num_tag, 3)\n",
    "        anger = round( anger/num_tag, 3)\n",
    "        return [anti, sad, trust, fear, joy, dis, surp, anger]\n",
    "\n",
    "    \n",
    "    df2 = df\n",
    "    end = df.shape[0]\n",
    "    now = 0\n",
    "    for row in df2.index:\n",
    "        now += 1\n",
    "        if (now % 1000 == 0):\n",
    "            clear_output(wait=False)\n",
    "            display('loading... '+ str(now) + ' / ' + str(end) )\n",
    "            \n",
    "        tagEmt = tag2emotion(df2['hashtags'][row])\n",
    "#        print(tagEmt)\n",
    "        change_target = ['tagEmt_anticipation','tagEmt_sadness','tagEmt_trust','tagEmt_fear','tagEmt_joy','tagEmt_disgust','tagEmt_surprise','tagEmt_anger']\n",
    "        count = 0\n",
    "        for tmp in change_target:\n",
    "            df2.loc[row, tmp] = tagEmt[count]\n",
    "            count = count + 1\n",
    "    return df2\n",
    "\n",
    "X_TRAIN = make_tag_emotion(X_train)\n",
    "X_train = X_TRAIN\n",
    "X_train = X_train.drop(columns=['hashtags'])\n",
    "X_train\n"
   ]
  },
  {
   "cell_type": "code",
   "execution_count": 15,
   "metadata": {},
   "outputs": [],
   "source": [
    "# emotion label-encoder\n",
    "from sklearn.preprocessing import LabelEncoder\n",
    "labelencoder = LabelEncoder()\n",
    "emotion = labelencoder.fit_transform(sample_train_df['emotion'])\n",
    "emotion=pd.DataFrame(emotion, columns=['emotion'])"
   ]
  },
  {
   "cell_type": "code",
   "execution_count": 16,
   "metadata": {},
   "outputs": [],
   "source": [
    "from sklearn.model_selection import train_test_split\n",
    "x=X_train\n",
    "y=emotion\n",
    "\n",
    "X_train,X_test,y_train,y_test=train_test_split(x,y,test_size=0.3,random_state=20170816)"
   ]
  },
  {
   "cell_type": "markdown",
   "metadata": {},
   "source": [
    "### an explanation of your model"
   ]
  },
  {
   "cell_type": "code",
   "execution_count": 17,
   "metadata": {},
   "outputs": [
    {
     "name": "stderr",
     "output_type": "stream",
     "text": [
      "/usr/local/lib/python3.6/dist-packages/sklearn/linear_model/logistic.py:433: FutureWarning: Default solver will be changed to 'lbfgs' in 0.22. Specify a solver to silence this warning.\n",
      "  FutureWarning)\n",
      "/usr/local/lib/python3.6/dist-packages/sklearn/utils/validation.py:761: DataConversionWarning: A column-vector y was passed when a 1d array was expected. Please change the shape of y to (n_samples, ), for example using ravel().\n",
      "  y = column_or_1d(y, warn=True)\n",
      "/usr/local/lib/python3.6/dist-packages/sklearn/linear_model/logistic.py:460: FutureWarning: Default multi_class will be changed to 'auto' in 0.22. Specify the multi_class option to silence this warning.\n",
      "  \"this warning.\", FutureWarning)\n"
     ]
    }
   ],
   "source": [
    "# the model is just LogisticRegression from sklearn\n",
    "\n",
    "from sklearn import datasets, linear_model\n",
    "\n",
    "# from sklearn import linear_model\n",
    "lgR = linear_model.LogisticRegression()\n",
    "\n",
    "# 訓練模型\n",
    "lgR.fit(X_train, y_train)\n",
    "\n",
    "# 預測測試集\n",
    "y_pred = lgR.predict(X_test)"
   ]
  },
  {
   "cell_type": "code",
   "execution_count": 18,
   "metadata": {},
   "outputs": [
    {
     "name": "stdout",
     "output_type": "stream",
     "text": [
      "Accuracy:  0.49166666666666664\n"
     ]
    }
   ],
   "source": [
    "# not yet check the score.... but able to predict\n",
    "from sklearn.metrics import  accuracy_score\n",
    "\n",
    "acc = accuracy_score(y_test, y_pred)\n",
    "print(\"Accuracy: \", acc)"
   ]
  },
  {
   "cell_type": "markdown",
   "metadata": {},
   "source": [
    "result:  0.10639\n",
    "((not so impressing..."
   ]
  },
  {
   "cell_type": "markdown",
   "metadata": {},
   "source": [
    "## Third try"
   ]
  },
  {
   "cell_type": "markdown",
   "metadata": {},
   "source": [
    "### the feature engineering"
   ]
  },
  {
   "cell_type": "code",
   "execution_count": 19,
   "metadata": {},
   "outputs": [
    {
     "name": "stdout",
     "output_type": "stream",
     "text": [
      "['00', '01', '04', '05', '08', '10', '11', '12', '12753', '13', '14', '15', '15am', '16', '1722', '18', '180', '1822', '1833', '18434', '19', '1st', '20', '2002', '2017', '22nd', '23am', '24', '24hr', '26', '2daynotice', '2line', '30', '30am', '33', '37', '38', '3d', '3rdmb', '3swish_georges', '40', '40404', '42', '43', '45pm', '47', '475', '53', '68', '6sp', '70s80s90s00s', '74', '830', '941', '9xjalwa', '_raudahlasiol_', 'aajtak', 'abandoning', 'abdominal', 'abhiya', 'ability', 'about', 'above', 'absolutely', 'abt', 'abzsalmeron', 'academic', 'accident', 'accidentally', 'accomplish', 'account', 'accountable', 'acct', 'accurately', 'ace', 'aclu', 'acrobats', 'action', 'actors', 'actual', 'actually', 'addicted', 'adds', 'admit', 'adulting', 'adults', 'advance', 'advantage', 'af', 'after', 'again', 'against', 'agencies', 'agentsofshield', 'ages', 'agnostic', 'agree', 'agreed', 'ah', 'air', 'ajith_tfc', 'aldautomotiveuk', 'alien', 'alive', 'all', 'allah', 'allergies', 'allthesequeries', 'almost', 'alone', 'alphabet', 'alphaforsaken', 'already', 'also', 'alstewitn', 'altonbrown', 'always', 'am', 'amaze', 'amazing', 'amen', 'amenpam', 'america', 'americafirst', 'american', 'americangirl', 'amzing', 'an', 'ananavarro', 'and', 'andres_garcia36', 'anger', 'angry', 'annemariehams', 'annoyed', 'annoying', 'another', 'anthems', 'anti', 'antitrump', 'any', 'anymore', 'anyone', 'anything', 'apartment', 'apocalypse', 'apology', 'app', 'apparently', 'appeals', 'appearance', 'apple', 'applebee', 'appointment', 'appreciate', 'appreciated', 'appropriate', 'apps', 'aquarium', 'are', 'aren', 'arguing', 'argument', 'arnd', 'arriving', 'arsenal', 'article', 'as', 'asa', 'asap', 'asking', 'asklloydsbank', 'asleep', 'ass', 'assault', 'assignment', 'at', 'atm', 'atpeace', 'attack', 'atts', 'aug', 'august', 'author', 'avoid', 'awards', 'away', 'awesome', 'awful', 'awsm', 'aww', 'ayisi', 'b1039radio', 'b4', 'b96chicago', 'baaaaaad', 'baaaadddd', 'babies', 'baby', 'back', 'background', 'backing', 'backs', 'bad', 'bake', 'bank', 'bankrupt', 'baptist', 'barcelona', 'bargaining', 'baron', 'barry', 'bas', 'bath', 'bb19', 'bbcone', 'bbcweather', 'bbuk', 'be', 'beautiful', 'because', 'beckyalbertalli', 'become', 'becoming', 'bed', 'been', 'before', 'beginning', 'behalf', 'behisown', 'being', 'beliebers', 'beliebers1v', 'belieberslink', 'beliefs', 'believe', 'believer', 'believing', 'belongs', 'ben', 'bengals', 'benjaminenfield', 'bentley', 'bentleystrikesagain', 'best', 'bethesda', 'better', 'betting', 'beware', 'beyond', 'bhopal', 'bhopalrape', 'bigdick', 'bigger', 'binge', 'bio', 'bitch', 'black', 'blackbeiber2', 'blackinkchi', 'blank', 'blanket', 'blast', 'blasted', 'bless', 'blessed', 'blessings', 'blimey', 'blistering', 'blood', 'blovee_20', 'blue', 'bmc', 'bn', 'bobbyderen', 'bold', 'boo', 'book', 'bored', 'boring', 'born', 'borrow', 'botany', 'both', 'bothered', 'bothering', 'bought', 'bound', 'box', 'boyfriend', 'boys', 'bra', 'brain', 'branch', 'brandnew', 'break', 'breathing', 'breaths', 'breitbartnews', 'brexit', 'bridge', 'brightens', 'bringonst3', 'brings', 'bro', 'broke', 'broken', 'brookefoxnews', 'brother', 'brought', 'brown', 'browsers', 'brueggemann', 'bruhh', 'brussels', 'btw', 'buck', 'buffalo', 'bugging', 'build', 'building', 'bump', 'bur', 'business', 'busy', 'but', 'buy', 'buying', 'by', 'bye', 'cad', 'cakes', 'california', 'call', 'called', 'callmeepee', 'calls', 'came', 'camtheking', 'can', 'cannot', 'cant', 'cantera', 'capital', 'car', 'card', 'care', 'career', 'carolyn', 'carry', 'case', 'casino', 'catch', 'cbs12', 'cdc', 'certain', 'chain', 'chair', 'champagne', 'championed', 'champions', 'change', 'changing', 'channels', 'charles', 'chase', 'cheated', 'check', 'cheer', 'cheftalent', 'cheryl', 'child', 'children', 'childrenwillbechildren', 'chillax', 'choice', 'chopping', 'chose', 'christ', 'christians', 'chrysler', 'church', 'cifaretto', 'cindycapo', 'circumstances', 'civil', 'cker', 'claim', 'class', 'classes', 'classic', 'cleaning', 'clear', 'clearly', 'client', 'clients', 'clinically', 'clip', 'close', 'closed', 'closing', 'clothe', 'cmoraff', 'cny', 'co', 'coach_johnnie', 'coachneuheisel', 'cocktribute', 'coffee', 'coin', 'colbertlateshow', 'collabro', 'colleagues', 'colour', 'colourful', 'come', 'comes', 'coming', 'comment', 'commented', 'commercials', 'communication', 'compensation', 'completely', 'conditioner', 'conditions', 'condo', 'congrats', 'congratulations', 'congrts', 'constant', 'contact', 'contractors', 'contracts', 'control', 'convinced', 'convo', 'coolmom', 'copy', 'copyright', 'corey_feldman', 'corpse_husband', 'correspondingly', 'cortex', 'cost', 'could', 'couldn', 'countdown', 'country', 'couple', 'couples', 'courage', 'course', 'courteous', 'cover', 'covered', 'cowards', 'coz', 'crack', 'craiggroeschel', 'cramps', 'crap', 'crazier', 'craziness', 'crazy', 'create', 'creating', 'creativethinking', 'crime', 'criticize', 'criticized', 'crop', 'crowd', 'cruel', 'cryptohustle', 'cult45', 'cumslut', 'currently', 'custom', 'cut', 'cute', 'cuz', 'cw', 'cw_spn', 'cynical', 'da', 'daca', 'dad', 'daily', 'damn', 'dan', 'daretodreambig', 'dariusrucker', 'dark', 'daughter', 'daughters', 'daveeast', 'david', 'day', 'days', 'deadskin', 'dealing', 'dear', 'deargodhelpusall', 'december', 'decision', 'decor', 'deep', 'deeply', 'defended', 'defenses', 'definition', 'defrosting', 'deitheas', 'delay', 'delayed', 'delaying', 'deliver', 'delivered', 'delivery', 'delta', 'dem', 'dependent', 'deplorable', 'depressed', 'deptvetaffairs', 'description', 'deserve', 'deserving', 'design', 'desparate', 'despite', 'despressed', 'destiny', 'devils', 'devotion', 'dhiggins63', 'diary', 'did', 'didn', 'didnt', 'dies', 'different', 'dikhe', 'dilibadat', 'dinkster', 'dinner', 'dipsh', 'direction', 'directs', 'dirty', 'disbelief', 'discovery', 'discuss', 'disgusting', 'dishonest', 'disney', 'display', 'district', 'dividesak', 'dm', 'do', 'does', 'doesn', 'dog', 'doing', 'dolo', 'dolphins', 'don', 'donate', 'done', 'donniewahlberg', 'donny', 'dont', 'door', 'dopest', 'down', 'dpd_uk', 'dr', 'dragon', 'draped', 'drcmusic58', 'dream', 'dreams', 'dried', 'drink', 'drinking', 'driver', 'drops', 'drunk', 'dude', 'dumbfounded', 'dumbleaders', 'duterte', 'dying', 'each', 'eagerly', 'early', 'earrings', 'ears', 'earth', 'easy', 'eat', 'eaten', 'eatrightpa', 'eatrightpro', 'eatyourscience', 'eden', 'editor', 'edsheeran', 'edstetzer', 'educated', 'edwgillespie', 'eek', 'egsouthsky', 'egypt', 'either', 'elclasico', 'elf', 'eljunior_954', 'em', 'emails', 'emccathletics', 'emergency', 'emon', 'emotion', 'employing', 'empowering', 'en', 'enabler', 'encourage', 'end', 'ended', 'enefbeass', 'engineers', 'engvswi', 'enjoy', 'enjoyed', 'enough', 'ensure', 'entire', 'entrepreneur', 'epic', 'equal', 'equally', 'espn', 'etc', 'eternalvalue', 'eur', 'eurusd', 'even', 'evening', 'ever', 'evergreen', 'every', 'everybody', 'everyday', 'everyone', 'ew', 'ex', 'except', 'excited', 'exhausted', 'exicting', 'expect', 'experience', 'expired', 'extreme', 'ey', 'eye', 'fab', 'face', 'facelift', 'fact', 'facts', 'fade', 'fail', 'faith', 'fake', 'fakenews', 'fall', 'family', 'fans', 'fantastic', 'far', 'farrakhan', 'fast', 'father', 'favor', 'favorite', 'fear', 'fearmongering', 'fearmongers', 'fed', 'fee', 'feed', 'feel', 'feeling', 'feelings', 'feels', 'fellatio', 'fhaackofficial', 'fiance', 'fifthharmony', 'fiftyshadesfreed', 'figure', 'figuring', 'filled', 'filmed', 'final', 'finally', 'finals', 'finalssuck', 'find', 'findingmeagain', 'finger', 'finish', 'fire', 'firm', 'first', 'fix', 'fjwsoprano', 'fkn', 'flat', 'flavors', 'flawless', 'flight', 'flip', 'flipping', 'flowerpot', 'fo', 'focus', 'follow', 'follower', 'food', 'foodhelp123', 'fool', 'football', 'for', 'forced', 'forces', 'foreal', 'forever', 'forgiven', 'former', 'found', 'fourfive', 'fourfiveseconds', 'fouseytube', 'foxandfriends', 'frankie', 'free', 'freedom', 'freespeech', 'friends', 'friendship', 'frm', 'from', 'front', 'frustrated', 'fsu', 'fuck', 'fucked', 'fucking', 'fulfilled', 'full', 'fullest', 'fun', 'funder', 'funny', 'furious', 'future', 'fuuuuuck', 'fyi', 'gabehoff', 'game', 'gameofthrones', 'garbluemoon', 'gardner', 'gave', 'gbbo', 'gbp', 'gem', 'generic', 'gerrysimpsonhrw', 'get', 'getittogether', 'getmeoutofhere', 'gets', 'getsgrip', 'getting', 'giant', 'gif', 'gill', 'gimbal', 'girl', 'girls', 'give', 'giveaway', 'given', 'giving', 'glorious', 'go', 'goals', 'god', 'gods', 'goes', 'going', 'gojetsgo', 'gonads', 'gone', 'gonna', 'good', 'goodmornin', 'goodness', 'goodwood', 'goofy', 'googlemaps', 'gop', 'gordon', 'gorgeous', 'gosh', 'got', 'gotten', 'government', 'gps', 'grace', 'graces', 'grantboone', 'granted', 'grateful', 'gratitude', 'great', 'grew', 'gross', 'groups', 'grow', 'growing', 'gt', 'gudvibration', 'guides', 'guilt', 'gumdroplolly', 'gun', 'gunby', 'gunk', 'guy', 'guys', 'gwrhelp', 'gxldengods', 'gym', 'h3h3productions', 'had', 'hail', 'hal', 'half', 'halifax', 'halloween', 'hammer', 'hamster', 'hands', 'hanging', 'happen', 'happened', 'happens', 'happy', 'happydiwali', 'happyness', 'hard', 'harder', 'has', 'hasn', 'hate', 'haters', 'have', 'haven', 'havent', 'having', 'hayley', 'he', 'head', 'headache', 'heading', 'headline', 'heads', 'health', 'hear', 'heard', 'heart', 'hearts', 'heathermangieri', 'heating', 'heaux', 'heavy', 'hedges', 'hell', 'help', 'helpers', 'helping', 'helpme', 'helps', 'hence', 'her', 'here', 'hermaphrodites', 'herself', 'hey', 'hfd', 'hi', 'hide', 'high', 'higher', 'hillaryclinton', 'him', 'himantabiswa', 'himself', 'hiphoptamizha', 'hippos', 'his', 'histry', 'hits', 'hits8at8', 'hits973', 'ho', 'holding', 'holiday', 'holy', 'holymass', 'home', 'homeless', 'honor', 'hope', 'hoping', 'horny', 'horribledeal', 'hospital', 'host', 'hot', 'hotel', 'hottest', 'hour', 'hours', 'how', 'however', 'howlsofremorse', 'howwwww', 'hrs', 'hrw', 'hschneeb', 'huge', 'human', 'humility', 'humor', 'huricaneirma', 'hurtnigga', 'hype', 'hypocrisy', 'hypocrites', 'iamchrismartin', 'iamcoreyb', 'iamdjmdot', 'iconoclasts', 'icy', 'idontknowifmydesicionisright', 'if', 'ignite', 'ihatemyself', 'illegal', 'im', 'immensely', 'immigrants', 'immobilize', 'in', 'included', 'incredible', 'independent', 'india', 'initials', 'injury', 'innovation', 'insecure', 'insideedgeamzn', 'insomnia', 'insomniac', 'inspirational', 'instead', 'intellectuals', 'interbreeds', 'interested', 'interesting', 'interview', 'into', 'intront', 'invent', 'invented', 'iphonex', 'iran', 'ircatering', 'irctc', 'irctc_ltd', 'irene4usall', 'iris', 'ironically', 'irvingshipbuild', 'is', 'isn', 'israel', 'issa', 'issarae', 'issues', 'it', 'italians4trump', 'itchy', 'its', 'its2017', 'itsalpizzle', 'itsheragain', 'itskatrenna', 'itss_aileeen', 'jack', 'jacob', 'jahan', 'jamesritch1', 'jasmindavey', 'jasonfischer77', 'jealous', 'jeffreestar', 'jessehapke', 'jesus', 'jesuschristislord', 'jesuswins', 'jewish', 'jmdematteis', 'job', 'joel', 'johnny', 'join', 'joined', 'joins', 'jolliffelexlar', 'journey', 'joy', 'joy997fm', 'jude', 'judgementday', 'juliet', 'jumping', 'junior', 'just', 'justified', 'justin', 'justinbieber', 'justs', 'jvtwillie', 'k_brathwaite', 'kail', 'kanyewest', 'kat', 'katelin_collins', 'keep', 'keeping', 'keroro_jnr', 'kez', 'kidding', 'kids', 'kidsthesedays', 'killed', 'killers', 'kills', 'kind', 'king', 'kings', 'kinky', 'kissasins', 'knackered', 'kneel', 'know', 'knowledge', 'knows', 'kodaline', 'kyle', 'kylegriffin1', 'la', 'lab', 'lacazette', 'lady', 'lagging', 'lamp', 'lan', 'language', 'last', 'lastday', 'lastnight', 'lasvegasmassacre', 'late', 'later', 'laugh', 'laughing', 'law', 'lawrence', 'lay', 'laying', 'lazarus', 'lcc', 'lds', 'le', 'leaders', 'leadership', 'leahlove', 'leaking', 'learn', 'learnt', 'least', 'leave', 'left', 'legal', 'legends_nyc', 'legion', 'lennoreo', 'leonardpittsjr1', 'lesleyannbrandt', 'less', 'let', 'level', 'lewis', 'lh', 'libertymonitor', 'licking', 'life', 'lifechurch', 'light', 'lighthouse', 'like', 'likes', 'liking', 'lindseygrahamsc', 'line', 'lip', 'lisa', 'lisamurkowski', 'list', 'listened', 'listening', 'lit', 'literally', 'little', 'live', 'lives', 'livid', 'living', 'll', 'lmao', 'lmaoooo', 'load', 'lock', 'locks', 'lol', 'lolllll', 'london', 'lonely', 'lonestar', 'long', 'longest', 'look', 'looking', 'loose', 'lord', 'lose', 'lost', 'lot', 'lots', 'louisfarrakhan', 'love', 'lovely', 'loves', 'loving', 'luck', 'luckily', 'lucky', 'luhh', 'lunch', 'lying', 'maar', 'macbo50', 'machar', 'mad', 'maga', 'maitainence', 'make', 'makesme', 'makeup', 'making', 'malibu', 'malpapadam', 'man', 'manipulating', 'mantra', 'many', 'marcmaron', 'margaritas', 'markets', 'married', 'mashable', 'mask', 'match', 'mateo', 'math', 'matthew', 'mauricio', 'may', 'mc', 'me', 'means', 'meant', 'media', 'mediocre', 'meet', 'melodyehsani', 'memories', 'men', 'mercy', 'mere', 'merrychristmas', 'mess', 'message', 'mf', 'miami', 'michaelbuble', 'middle', 'middlechildhull', 'middleschoollife', 'might', 'mikesonko', 'milf', 'milk', 'million', 'millions', 'mind', 'miniskirts', 'minister', 'minority', 'minus', 'minute', 'minutes', 'mirror', 'misplaced', 'miss', 'missing', 'mission', 'missions', 'mist', 'mj', 'mjquijote', 'mobilityexperience', 'modi', 'molly', 'mom', 'moments', 'mommydean74', 'monday', 'money', 'monicamomof2', 'monitored', 'monster', 'month', 'monument_lab', 'mooch', 'more', 'morning', 'mornings', 'most', 'mother', 'motherf', 'motivation', 'motivational', 'mountains', 'moved', 'movementofgod', 'movie', 'moving', 'mr', 'msp', 'much', 'mud', 'mueller', 'mufc', 'mulder', 'multiplied', 'mumbai', 'mumma', 'muranofiction', 'music', 'musicweek', 'must', 'my', 'myiqhasbeenlowered', 'myself', 'naelargent', 'nah', 'nairobigovernor', 'name', 'named', 'names', 'nandedexp', 'nasty', 'nationalcandycornday', 'nationnews', 'nazis', 'nd', 'near', 'neckdeepuk', 'need', 'needtopray', 'neenabluegirl', 'negativity', 'negotiation', 'neither', 'neopone', 'nepgear', 'nes', 'netflix', 'never', 'new', 'newark', 'newest', 'newviewmn', 'next', 'nhljets', 'nice', 'nigelfarage', 'niggas', 'night', 'nights', 'nintendo', 'nipples', 'nkotb', 'no', 'noises', 'nonetheless', 'nonstophits', 'nor', 'not', 'note', 'nothing', 'notimeforthis', 'notjagath', 'novela', 'now', 'nowadays', 'nra', 'nuclear', 'nursing', 'obamacare', 'obnoxious', 'observe', 'ocean', 'ocfootball', 'october', 'odinwa4real', 'of', 'off', 'offered', 'oh', 'ok', 'okay', 'old', 'older', 'oldie', 'omg', 'on', 'once', 'oncogenic_virus', 'onduty', 'one', 'ones', 'online', 'only', 'only4storesareopen', 'onyxfuralpha', 'ooo', 'oooowwweeeeee', 'ooowee', 'oosinc', 'open', 'openings', 'opposed', 'oppression', 'or', 'organizing', 'orgy', 'orlandospencer', 'ossett', 'other', 'others', 'otherwise', 'our', 'out', 'outside', 'outta', 'over', 'overcome', 'overpower', 'overthisweek', 'overwhelming', 'owe', 'own', 'oxford', 'ozarkgirl123', 'ozzybaby18', 'pad', 'paid', 'pain', 'pakistan', 'pammktgnut', 'panic', 'parcel', 'parental', 'partner', 'pass', 'past', 'pastormarkburns', 'pastors', 'pay', 'payment', 'pc', 'peace', 'pee', 'peers', 'people', 'per', 'perfect', 'perform', 'performances', 'permission', 'person', 'personal', 'perterbilt', 'philanthropical', 'phoenix', 'phoenixrally', 'physical', 'pic', 'pick', 'pickledbooks', 'picture', 'piece', 'pips', 'pissed', 'pixar', 'place', 'placed', 'places', 'plaid', 'plan', 'plans', 'play', 'playing', 'playingnothingbuthits', 'please', 'pleasure', 'plotlines', 'pmsl', 'pochettino', 'pocket', 'podcast', 'podcasts', 'poetry', 'point', 'police', 'politicians', 'politics', 'poor', 'popcorn', 'porn', 'positive', 'posts', 'potus', 'power', 'ppeh', 'pple', 'ppv', 'practically', 'practice', 'prankinvasion', 'pray', 'prayer', 'prayerpoints', 'preaching', 'precious', 'predicable', 'predict', 'prefrontal', 'pregnancy', 'presence', 'president', 'presstitutes', 'pressure', 'pretty', 'preventing', 'priceless', 'pride', 'probably', 'professional', 'profiteering', 'profits', 'promote', 'proportionated', 'props', 'prosper', 'prosperity', 'protecting', 'provide', 'provided', 'public', 'pumped', 'pure', 'purpose', 'pushup', 'put', 'pyrocynical', 'qualifications', 'quayle', 'questions', 'quick', 'quiet', 'quiteclever1', 'quoted', 'racist', 'radio', 'rage', 'rain', 'raised', 'ralph', 'rape', 'rare', 'rather', 'rave', 'rcn_mrc', 're', 'ready', 'real', 'realassange', 'realdonaldtrump', 'reality', 'realize', 'realized', 'realjameswoods', 'really', 'reconcile', 'recruiters', 'red', 'redcherryradio', 'reference', 'reform', 'refused', 'regarding', 'regrets', 'regular', 'relate', 'release', 'reliable', 'religions', 'remember', 'remontic', 'remove', 'repdesantis', 'repgallagher', 'reply', 'reppin', 'representing', 'responding', 'response', 'rest', 'resurrected', 'retort', 'return', 'retweet', 'retweeted', 'reveals', 'rhetoric', 'ricegum', 'ricej32', 'richardosman', 'rickneuheisel', 'rid', 'ride', 'right', 'rights', 'rihanna', 'riptompetty', 'riverdale', 'roads', 'roll', 'romans13', 'ronniexrage', 'room', 'roslehtinen', 'round', 'rub', 'ruined', 'rumor', 'run', 'rushing', 'russia', 'ryann_anderson', 's7', 's_okudzetoablak', 'sad', 'safe', 'said', 'saints', 'salty', 'sam', 'same', 'samescarolyn', 'samuley', 'sartorius', 'saturday', 'savagery', 'savingmoney', 'saw', 'say', 'saying', 'says', 'sc', 'scarce', 'scared', 'scene', 'scheduling', 'schofe', 'school', 'schwab', 'science', 'scoop', 'score', 'scorpions', 'scottishpower', 'screwdriver', 'scrubbed', 'sean', 'seantstories', 'season', 'seasons', 'second', 'seconds', 'secretly', 'security', 'see', 'seeing', 'seems', 'seen', 'selective', 'self', 'selfbuild', 'sell', 'selling', 'senator', 'send', 'senjeffmerkley', 'sense', 'sep', 'september', 'serahf_', 'serch_cuellar', 'sergio', 'series', 'sermon', 'service', 'set', 'sets', 'sexualpredators', 'seyer', 'shadow', 'shahsofsunset', 'shall', 'shallow', 'share', 'sharing', 'she', 'sheen', 'sheffield', 'shefvaidya', 'sheilakroes', 'shelf', 'shift', 'shinin', 'shit', 'shop', 'shopping', 'shoptilyoudrop', 'short', 'should', 'shoulders', 'show', 'shower', 'showerthoughts', 'showing', 'sibling', 'sick', 'sickinthehead', 'sides', 'sierraleone', 'sigh', 'sign', 'sigurdsson', 'silmsociety', 'simply', 'sin_virus', 'sitting', 'six', 'size', 'sized', 'skipping', 'sky', 'sleep', 'sleeping', 'slingtv', 'slm', 'slmnews', 'small', 'smiles', 'smoke', 'smooth', 'smug', 'snapchat', 'sng', 'snoopdogg', 'so', 'social', 'sociopathicliars', 'sodding', 'sogood', 'solangeknowles', 'solheimcup2017', 'solution', 'some', 'somebody', 'somehow', 'someone', 'something', 'sona2017', 'song', 'sonia_udass', 'soon', 'sooverthis', 'sorrow', 'sorry', 'sorting', 'sosad', 'sound', 'sounds', 'south', 'southside', 'space', 'spaceships', 'spanish', 'speak', 'specified', 'spend', 'spending', 'spent', 'spill', 'spinning', 'spnsportsindia', 'spotnewsonig', 'st2', 'staff', 'stain', 'stand', 'start', 'started', 'starting', 'state', 'stay', 'stayblessed', 'staying', 'stead', 'stevie', 'still', 'stipulating', 'stipulations', 'stop', 'stranger_things', 'strangerthings', 'strenght', 'stress', 'stressed', 'stretches', 'strongest', 'struggleagainstterror', 'stuck', 'students', 'studiomdhr', 'stupid', 'success', 'such', 'suckerfree', 'suckhisdickfromtheback', 'suddenly', 'sufficiency', 'suffolkts', 'sugar', 'sugarless', 'summarised', 'sunday', 'suntrust', 'super', 'superboring1234', 'supernatural', 'supporting', 'surprised', 'surprises', 'surrender', 'suscotland', 'swear', 'switch', 'syfy', 'system', 't_t', 'tailless', 'take', 'taken', 'talent', 'talk', 'talking', 'tall', 'tammy', 'tans', 'tasha', 'tats', 'tax', 'taxcuthoax', 'taxcutsforwealthy', 'teacher', 'teams', 'tear', 'technologylit', 'tedder', 'teenagers', 'teens', 'telecast', 'tell', 'telling', 'tension', 'tere_judai', 'term', 'terrible', 'terror', 'terrorist', 'test', 'tfw', 'than', 'thank', 'thankful', 'thanks', 'thanksgiving', 'that', 'the', 'the_nickmorgan', 'thebadplace', 'thefinalcall', 'theflash', 'theincredibles2', 'their', 'thejimmichaels', 'thelbdlife', 'them', 'themed', 'then', 'therapy', 'there', 'theres', 'theresistance', 'therewhenyouneedus', 'these', 'they', 'thing', 'things', 'think', 'thinking', 'this', 'thishurts', 'thismorning', 'thomaswictor', 'thorragnarok', 'those', 'though', 'thought', 'thoughts', 'thousands', 'three', 'through', 'thumbnail', 'thursday', 'thursdaythoughts', 'thus', 'tillerson', 'time', 'times', 'timing', 'tip', 'tits', 'tm2', 'to', 'today', 'together', 'told', 'tolearte', 'tomorrow', 'tonight', 'too', 'tooearly', 'took', 'top', 'top8at8', 'topic', 'tops', 'total', 'totally', 'tottally', 'touchdown', 'touching', 'tough', 'tour', 'towards', 'towel', 'town', 'tradeoffs', 'tradition', 'traffic', 'trailer', 'train', 'traitordesantis', 'transgenders', 'travel', 'traveling', 'treats', 'tree', 'trial', 'triggered', 'trimming', 'true', 'truly', 'trump', 'trumpsamerikkka', 'trying', 'tryingtoheal', 'tryna', 'ts', 'tumifrazier', 'tuned', 'turn', 'tutor', 'tv', 'tweet', 'twelve', 'twfpoppunk', 'twitch', 'twitter', 'two', 'type', 'typical', 'ua', 'ubcommunity', 'umd_mith', 'unacceptable', 'uncertain', 'unconcern', 'understand', 'uni', 'uniforms', 'united', 'unless', 'until', 'unto', 'unworthy', 'up', 'update', 'upon', 'ur', 'us', 'usa', 'usd', 'use', 'used', 'using', 'usually', 'vaguelyweird', 'validated', 'valliersuk', 'value', 'valued', 'values', 'vanjones68', 'vayu', 've', 'velocityboys', 'verbalabuse', 'very', 'veryfrustrated', 'via', 'victims', 'video', 'view', 'violence', 'visiting', 'vmware', 'vodka', 'voice', 'voids', 'voter', 'vsphere', 'vulvalexxus', 'w1n', 'waaaait', 'waffelove', 'waffle', 'wait', 'waited', 'wake', 'walsall', 'walter', 'walvire', 'wanking', 'wanna', 'want', 'warcraft', 'was', 'wasn', 'waste', 'wat', 'watch', 'watched', 'watching', 'water', 'wave', 'waw', 'way', 'waze', 'we', 'weapon', 'wearing', 'weather', 'web', 'website', 'wedding', 'wednesday', 'wee', 'week', 'weekend', 'weeks', 'weird', 'weirdo', 'welcomd', 'welcomehome', 'welcoming', 'well', 'went', 'were', 'werk', 'westindies', 'what', 'wheel', 'wheeling', 'when', 'where', 'whet', 'which', 'while', 'whip', 'white', 'whitewalker', 'who', 'whole', 'why', 'wicricket', 'wife', 'will', 'wilson', 'win', 'wind', 'winding', 'windows', 'winds', 'wipe', 'wire', 'wish', 'with', 'within', 'without', 'wittier', 'wizardofcause', 'wolftyla', 'woman', 'women', 'womenhaters', 'won', 'wonder', 'wonderful', 'word', 'wordofgod', 'words', 'work', 'worker', 'working', 'worklife', 'world', 'worried', 'worsethanhitler', 'worst', 'worth', 'would', 'wow', 'wrench', 'writes', 'writing', 'written', 'wrong', 'wrote', 'wtf', 'wwe', 'xd', 'xmas', 'xxx', 'ya', 'yankees', 'year', 'yes', 'yesterday', 'yet', 'yey', 'yhwh', 'you', 'youcorporatedobetter', 'yougotthis', 'youknowbetter', 'young', 'youngsters', 'your', 'yours', 'yourself', 'youth', 'yrrr', 'yuk', 'z1043', 'zaptie', 'zombie']\n"
     ]
    }
   ],
   "source": [
    "from sklearn.feature_extraction.text import TfidfVectorizer\n",
    "corpus = list(sample_train_df.text)\n",
    "vectorizer = TfidfVectorizer(max_features = 5000)\n",
    "X_tfidf = vectorizer.fit_transform(corpus) # Learn vocabulary and idf, return term-document matrix.\n",
    "print(vectorizer.get_feature_names()) # print term-document matrix"
   ]
  },
  {
   "cell_type": "code",
   "execution_count": 20,
   "metadata": {},
   "outputs": [
    {
     "data": {
      "text/plain": [
       "(400, 2147)"
      ]
     },
     "execution_count": 20,
     "metadata": {},
     "output_type": "execute_result"
    }
   ],
   "source": [
    "X_tfidf.shape"
   ]
  },
  {
   "cell_type": "markdown",
   "metadata": {},
   "source": [
    "### an explanation of your model"
   ]
  },
  {
   "cell_type": "code",
   "execution_count": null,
   "metadata": {},
   "outputs": [],
   "source": [
    "# using the same LogisticRegression Model \n",
    "# acc = 0.32"
   ]
  },
  {
   "cell_type": "markdown",
   "metadata": {},
   "source": [
    "## Fourth try"
   ]
  },
  {
   "cell_type": "code",
   "execution_count": null,
   "metadata": {},
   "outputs": [],
   "source": [
    "# combine all above\n",
    "# since there are too many parameter, the acc decrease even more..."
   ]
  }
 ],
 "metadata": {
  "kernelspec": {
   "display_name": "Python 3",
   "language": "python",
   "name": "python3"
  },
  "language_info": {
   "codemirror_mode": {
    "name": "ipython",
    "version": 3
   },
   "file_extension": ".py",
   "mimetype": "text/x-python",
   "name": "python",
   "nbconvert_exporter": "python",
   "pygments_lexer": "ipython3",
   "version": "3.6.8"
  },
  "varInspector": {
   "cols": {
    "lenName": 16,
    "lenType": 16,
    "lenVar": 40
   },
   "kernels_config": {
    "python": {
     "delete_cmd_postfix": "",
     "delete_cmd_prefix": "del ",
     "library": "var_list.py",
     "varRefreshCmd": "print(var_dic_list())"
    },
    "r": {
     "delete_cmd_postfix": ") ",
     "delete_cmd_prefix": "rm(",
     "library": "var_list.r",
     "varRefreshCmd": "cat(var_dic_list()) "
    }
   },
   "types_to_exclude": [
    "module",
    "function",
    "builtin_function_or_method",
    "instance",
    "_Feature"
   ],
   "window_display": false
  }
 },
 "nbformat": 4,
 "nbformat_minor": 2
}
